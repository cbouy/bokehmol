{
 "cells": [
  {
   "cell_type": "code",
   "execution_count": null,
   "metadata": {},
   "outputs": [],
   "source": [
    "import bokehmol\n",
    "\n",
    "from bokeh.models import ColumnDataSource\n",
    "from bokeh.plotting import figure, show\n",
    "from bokeh.io import output_notebook\n",
    "\n",
    "\n",
    "output_notebook()"
   ]
  },
  {
   "cell_type": "markdown",
   "metadata": {},
   "source": [
    "Note on JupyterLab:\n",
    "\n",
    "Full compatibility would require too much efforts, but you can still use the library in JupyterLab by simply using `bokehmol.show` instead of `bokeh.plotting.show`"
   ]
  },
  {
   "cell_type": "code",
   "execution_count": null,
   "metadata": {},
   "outputs": [],
   "source": [
    "# example dataset\n",
    "source = ColumnDataSource(\n",
    "    data=dict(\n",
    "        x=[1, 2, 3, 4, 5],\n",
    "        y=[6, 7, 2, 4, 5],\n",
    "        SMILES=[\n",
    "            \"O=C1CCCN1C\",\n",
    "            \"c1ccccc1\",\n",
    "            \"CN1C(=O)N(C)c2ncn(C)c2C1(=O)\",\n",
    "            \"C1C(=O)C=C2CCC3C4CCC(C(=O)CO)C4(C)CCC3C2(C)C1\",\n",
    "            \"CC(=O)OC1=CC=CC=C1C(=O)O\",\n",
    "        ]\n",
    "    )\n",
    ")"
   ]
  },
  {
   "cell_type": "markdown",
   "metadata": {},
   "source": [
    "The easiest way to use `bokehmol` is to import the package, run the `bokehmol.register_alias()` function, and then specify either `rdkit_hover` or `smiles_hover` in the `tools` parameter of the `bokeh` figure."
   ]
  },
  {
   "cell_type": "code",
   "execution_count": null,
   "metadata": {},
   "outputs": [],
   "source": [
    "bokehmol.register_alias()"
   ]
  },
  {
   "cell_type": "markdown",
   "metadata": {},
   "source": [
    "This assumes that your `ColumnDataSource` containing your data has a `SMILES` column.\n",
    "\n",
    "You can then hover over any glyph on the figure to reveal the corresponding structure:"
   ]
  },
  {
   "cell_type": "code",
   "execution_count": null,
   "metadata": {},
   "outputs": [],
   "source": [
    "plot = figure(\n",
    "    width=600, height=300,\n",
    "    title=\"Basic RDKit Hover\",\n",
    "    background_fill_color=\"#efefef\",\n",
    "    tools=\"rdkit_hover,pan,wheel_zoom\",\n",
    ")\n",
    "\n",
    "plot.scatter(\"x\", \"y\", size=15, line_width=0, fill_color=\"firebrick\", source=source)\n",
    "\n",
    "show(plot)"
   ]
  },
  {
   "cell_type": "code",
   "execution_count": null,
   "metadata": {},
   "outputs": [],
   "source": [
    "plot = figure(\n",
    "    width=600, height=300,\n",
    "    title=\"Basic SmilesDrawer Hover\",\n",
    "    background_fill_color=\"#efefef\",\n",
    "    tools=\"smiles_hover,pan,wheel_zoom\",\n",
    ")\n",
    "\n",
    "plot.scatter(\"x\", \"y\", size=15, line_width=0, fill_color=\"firebrick\", source=source)\n",
    "\n",
    "show(plot)"
   ]
  },
  {
   "cell_type": "markdown",
   "metadata": {},
   "source": [
    "If your SMILES column has a different name, you can instantiate the molecule hover tool directly and parametrize it further. With this, the `bokehmol.register_alias()` call in the example above is not necessary."
   ]
  },
  {
   "cell_type": "code",
   "execution_count": null,
   "metadata": {},
   "outputs": [],
   "source": [
    "plot = figure(\n",
    "    width=600, height=300,\n",
    "    title=\"Configured RDKit Hover\",\n",
    "    background_fill_color=\"#efefef\",\n",
    "    tools=\"pan,wheel_zoom\",\n",
    ")\n",
    "\n",
    "mol_hover = bokehmol.hover.rdkit(\n",
    "    smiles_column=\"SMILES\",\n",
    "    tooltips=[\n",
    "        (\"smiles\", \"@SMILES\"),\n",
    "    ],\n",
    "    draw_options={\n",
    "        \"comicMode\": True\n",
    "    }\n",
    ")\n",
    "\n",
    "plot.add_tools(mol_hover)\n",
    "plot.scatter(\"x\", \"y\", size=15, line_width=0, fill_color=\"firebrick\", source=source)\n",
    "\n",
    "show(plot)"
   ]
  },
  {
   "cell_type": "code",
   "execution_count": null,
   "metadata": {},
   "outputs": [],
   "source": [
    "# options available\n",
    "bokehmol.hover.rdkit?"
   ]
  },
  {
   "cell_type": "markdown",
   "metadata": {},
   "source": [
    "Same with SmilesDrawer:"
   ]
  },
  {
   "cell_type": "code",
   "execution_count": null,
   "metadata": {},
   "outputs": [],
   "source": [
    "plot = figure(\n",
    "    width=600, height=300,\n",
    "    title=\"Configured SmilesDrawer Hover\",\n",
    "    background_fill_color=\"#efefef\",\n",
    "    tools=\"pan,wheel_zoom\",\n",
    ")\n",
    "\n",
    "mol_hover = bokehmol.hover.smiles_drawer(\n",
    "    smiles_column=\"SMILES\",\n",
    "    tooltips=[\n",
    "        (\"smiles\", \"@SMILES\"),\n",
    "    ],\n",
    "    theme=\"cyberpunk\",\n",
    "    background_colour=\"#3d3d3b\",\n",
    "    mol_options={\n",
    "        \"atomVisualization\": \"balls\"\n",
    "    }\n",
    ")\n",
    "\n",
    "plot.add_tools(mol_hover)\n",
    "plot.scatter(\"x\", \"y\", size=15, line_width=0, fill_color=\"firebrick\", source=source)\n",
    "\n",
    "show(plot)"
   ]
  },
  {
   "cell_type": "code",
   "execution_count": null,
   "metadata": {},
   "outputs": [],
   "source": [
    "# options available\n",
    "bokehmol.hover.smiles_drawer?"
   ]
  }
 ],
 "metadata": {
  "kernelspec": {
   "display_name": ".venv",
   "language": "python",
   "name": "python3"
  },
  "language_info": {
   "codemirror_mode": {
    "name": "ipython",
    "version": 3
   },
   "file_extension": ".py",
   "mimetype": "text/x-python",
   "name": "python",
   "nbconvert_exporter": "python",
   "pygments_lexer": "ipython3",
   "version": "3.11.11"
  }
 },
 "nbformat": 4,
 "nbformat_minor": 4
}
