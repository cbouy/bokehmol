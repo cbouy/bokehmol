{
 "cells": [
  {
   "cell_type": "code",
   "execution_count": 1,
   "metadata": {},
   "outputs": [
    {
     "data": {
      "text/html": [
       "<style>\n",
       "        .bk-notebook-logo {\n",
       "            display: block;\n",
       "            width: 20px;\n",
       "            height: 20px;\n",
       "            background-image: url(data:image/png;base64,iVBORw0KGgoAAAANSUhEUgAAABQAAAAUCAYAAACNiR0NAAAABHNCSVQICAgIfAhkiAAAAAlwSFlzAAALEgAACxIB0t1+/AAAABx0RVh0U29mdHdhcmUAQWRvYmUgRmlyZXdvcmtzIENTNui8sowAAAOkSURBVDiNjZRtaJVlGMd/1/08zzln5zjP1LWcU9N0NkN8m2CYjpgQYQXqSs0I84OLIC0hkEKoPtiH3gmKoiJDU7QpLgoLjLIQCpEsNJ1vqUOdO7ppbuec5+V+rj4ctwzd8IIbbi6u+8f1539dt3A78eXC7QizUF7gyV1fD1Yqg4JWz84yffhm0qkFqBogB9rM8tZdtwVsPUhWhGcFJngGeWrPzHm5oaMmkfEg1usvLFyc8jLRqDOMru7AyC8saQr7GG7f5fvDeH7Ej8CM66nIF+8yngt6HWaKh7k49Soy9nXurCi1o3qUbS3zWfrYeQDTB/Qj6kX6Ybhw4B+bOYoLKCC9H3Nu/leUTZ1JdRWkkn2ldcCamzrcf47KKXdAJllSlxAOkRgyHsGC/zRday5Qld9DyoM4/q/rUoy/CXh3jzOu3bHUVZeU+DEn8FInkPBFlu3+nW3Nw0mk6vCDiWg8CeJaxEwuHS3+z5RgY+YBR6V1Z1nxSOfoaPa4LASWxxdNp+VWTk7+4vzaou8v8PN+xo+KY2xsw6une2frhw05CTYOmQvsEhjhWjn0bmXPjpE1+kplmmkP3suftwTubK9Vq22qKmrBhpY4jvd5afdRA3wGjFAgcnTK2s4hY0/GPNIb0nErGMCRxWOOX64Z8RAC4oCXdklmEvcL8o0BfkNK4lUg9HTl+oPlQxdNo3Mg4Nv175e/1LDGzZen30MEjRUtmXSfiTVu1kK8W4txyV6BMKlbgk3lMwYCiusNy9fVfvvwMxv8Ynl6vxoByANLTWplvuj/nF9m2+PDtt1eiHPBr1oIfhCChQMBw6Aw0UulqTKZdfVvfG7VcfIqLG9bcldL/+pdWTLxLUy8Qq38heUIjh4XlzZxzQm19lLFlr8vdQ97rjZVOLf8nclzckbcD4wxXMidpX30sFd37Fv/GtwwhzhxGVAprjbg0gCAEeIgwCZyTV2Z1REEW8O4py0wsjeloKoMr6iCY6dP92H6Vw/oTyICIthibxjm/DfN9lVz8IqtqKYLUXfoKVMVQVVJOElGjrnnUt9T9wbgp8AyYKaGlqingHZU/uG2NTZSVqwHQTWkx9hxjkpWDaCg6Ckj5qebgBVbT3V3NNXMSiWSDdGV3hrtzla7J+duwPOToIg42ChPQOQjspnSlp1V+Gjdged7+8UN5CRAV7a5EdFNwCjEaBR27b3W890TE7g24NAP/mMDXRWrGoFPQI9ls/MWO2dWFAar/xcOIImbbpA3zgAAAABJRU5ErkJggg==);\n",
       "        }\n",
       "    </style>\n",
       "    <div>\n",
       "        <a href=\"https://bokeh.org\" target=\"_blank\" class=\"bk-notebook-logo\"></a>\n",
       "        <span id=\"db88c29c-ffa8-4724-9e7e-2cd2f3416c06\">Loading BokehJS ...</span>\n",
       "    </div>\n"
      ]
     },
     "metadata": {},
     "output_type": "display_data"
    },
    {
     "data": {
      "application/javascript": "(function(root) {\n  function now() {\n    return new Date();\n  }\n\n  const force = true;\n\n  if (typeof root._bokeh_onload_callbacks === \"undefined\" || force === true) {\n    root._bokeh_onload_callbacks = [];\n    root._bokeh_is_loading = undefined;\n  }\n\nconst JS_MIME_TYPE = 'application/javascript';\n  const HTML_MIME_TYPE = 'text/html';\n  const EXEC_MIME_TYPE = 'application/vnd.bokehjs_exec.v0+json';\n  const CLASS_NAME = 'output_bokeh rendered_html';\n\n  /**\n   * Render data to the DOM node\n   */\n  function render(props, node) {\n    const script = document.createElement(\"script\");\n    node.appendChild(script);\n  }\n\n  /**\n   * Handle when an output is cleared or removed\n   */\n  function handleClearOutput(event, handle) {\n    const cell = handle.cell;\n\n    const id = cell.output_area._bokeh_element_id;\n    const server_id = cell.output_area._bokeh_server_id;\n    // Clean up Bokeh references\n    if (id != null && id in Bokeh.index) {\n      Bokeh.index[id].model.document.clear();\n      delete Bokeh.index[id];\n    }\n\n    if (server_id !== undefined) {\n      // Clean up Bokeh references\n      const cmd_clean = \"from bokeh.io.state import curstate; print(curstate().uuid_to_server['\" + server_id + \"'].get_sessions()[0].document.roots[0]._id)\";\n      cell.notebook.kernel.execute(cmd_clean, {\n        iopub: {\n          output: function(msg) {\n            const id = msg.content.text.trim();\n            if (id in Bokeh.index) {\n              Bokeh.index[id].model.document.clear();\n              delete Bokeh.index[id];\n            }\n          }\n        }\n      });\n      // Destroy server and session\n      const cmd_destroy = \"import bokeh.io.notebook as ion; ion.destroy_server('\" + server_id + \"')\";\n      cell.notebook.kernel.execute(cmd_destroy);\n    }\n  }\n\n  /**\n   * Handle when a new output is added\n   */\n  function handleAddOutput(event, handle) {\n    const output_area = handle.output_area;\n    const output = handle.output;\n\n    // limit handleAddOutput to display_data with EXEC_MIME_TYPE content only\n    if ((output.output_type != \"display_data\") || (!Object.prototype.hasOwnProperty.call(output.data, EXEC_MIME_TYPE))) {\n      return\n    }\n\n    const toinsert = output_area.element.find(\".\" + CLASS_NAME.split(' ')[0]);\n\n    if (output.metadata[EXEC_MIME_TYPE][\"id\"] !== undefined) {\n      toinsert[toinsert.length - 1].firstChild.textContent = output.data[JS_MIME_TYPE];\n      // store reference to embed id on output_area\n      output_area._bokeh_element_id = output.metadata[EXEC_MIME_TYPE][\"id\"];\n    }\n    if (output.metadata[EXEC_MIME_TYPE][\"server_id\"] !== undefined) {\n      const bk_div = document.createElement(\"div\");\n      bk_div.innerHTML = output.data[HTML_MIME_TYPE];\n      const script_attrs = bk_div.children[0].attributes;\n      for (let i = 0; i < script_attrs.length; i++) {\n        toinsert[toinsert.length - 1].firstChild.setAttribute(script_attrs[i].name, script_attrs[i].value);\n        toinsert[toinsert.length - 1].firstChild.textContent = bk_div.children[0].textContent\n      }\n      // store reference to server id on output_area\n      output_area._bokeh_server_id = output.metadata[EXEC_MIME_TYPE][\"server_id\"];\n    }\n  }\n\n  function register_renderer(events, OutputArea) {\n\n    function append_mime(data, metadata, element) {\n      // create a DOM node to render to\n      const toinsert = this.create_output_subarea(\n        metadata,\n        CLASS_NAME,\n        EXEC_MIME_TYPE\n      );\n      this.keyboard_manager.register_events(toinsert);\n      // Render to node\n      const props = {data: data, metadata: metadata[EXEC_MIME_TYPE]};\n      render(props, toinsert[toinsert.length - 1]);\n      element.append(toinsert);\n      return toinsert\n    }\n\n    /* Handle when an output is cleared or removed */\n    events.on('clear_output.CodeCell', handleClearOutput);\n    events.on('delete.Cell', handleClearOutput);\n\n    /* Handle when a new output is added */\n    events.on('output_added.OutputArea', handleAddOutput);\n\n    /**\n     * Register the mime type and append_mime function with output_area\n     */\n    OutputArea.prototype.register_mime_type(EXEC_MIME_TYPE, append_mime, {\n      /* Is output safe? */\n      safe: true,\n      /* Index of renderer in `output_area.display_order` */\n      index: 0\n    });\n  }\n\n  // register the mime type if in Jupyter Notebook environment and previously unregistered\n  if (root.Jupyter !== undefined) {\n    const events = require('base/js/events');\n    const OutputArea = require('notebook/js/outputarea').OutputArea;\n\n    if (OutputArea.prototype.mime_types().indexOf(EXEC_MIME_TYPE) == -1) {\n      register_renderer(events, OutputArea);\n    }\n  }\n  if (typeof (root._bokeh_timeout) === \"undefined\" || force === true) {\n    root._bokeh_timeout = Date.now() + 5000;\n    root._bokeh_failed_load = false;\n  }\n\n  const NB_LOAD_WARNING = {'data': {'text/html':\n     \"<div style='background-color: #fdd'>\\n\"+\n     \"<p>\\n\"+\n     \"BokehJS does not appear to have successfully loaded. If loading BokehJS from CDN, this \\n\"+\n     \"may be due to a slow or bad network connection. Possible fixes:\\n\"+\n     \"</p>\\n\"+\n     \"<ul>\\n\"+\n     \"<li>re-rerun `output_notebook()` to attempt to load from CDN again, or</li>\\n\"+\n     \"<li>use INLINE resources instead, as so:</li>\\n\"+\n     \"</ul>\\n\"+\n     \"<code>\\n\"+\n     \"from bokeh.resources import INLINE\\n\"+\n     \"output_notebook(resources=INLINE)\\n\"+\n     \"</code>\\n\"+\n     \"</div>\"}};\n\n  function display_loaded() {\n    const el = document.getElementById(\"db88c29c-ffa8-4724-9e7e-2cd2f3416c06\");\n    if (el != null) {\n      el.textContent = \"BokehJS is loading...\";\n    }\n    if (root.Bokeh !== undefined) {\n      if (el != null) {\n        el.textContent = \"BokehJS \" + root.Bokeh.version + \" successfully loaded.\";\n      }\n    } else if (Date.now() < root._bokeh_timeout) {\n      setTimeout(display_loaded, 100)\n    }\n  }\n\n  function run_callbacks() {\n    try {\n      root._bokeh_onload_callbacks.forEach(function(callback) {\n        if (callback != null)\n          callback();\n      });\n    } finally {\n      delete root._bokeh_onload_callbacks\n    }\n    console.debug(\"Bokeh: all callbacks have finished\");\n  }\n\n  function load_libs(css_urls, js_urls, callback) {\n    if (css_urls == null) css_urls = [];\n    if (js_urls == null) js_urls = [];\n\n    root._bokeh_onload_callbacks.push(callback);\n    if (root._bokeh_is_loading > 0) {\n      console.debug(\"Bokeh: BokehJS is being loaded, scheduling callback at\", now());\n      return null;\n    }\n    if (js_urls == null || js_urls.length === 0) {\n      run_callbacks();\n      return null;\n    }\n    console.debug(\"Bokeh: BokehJS not loaded, scheduling load and callback at\", now());\n    root._bokeh_is_loading = css_urls.length + js_urls.length;\n\n    function on_load() {\n      root._bokeh_is_loading--;\n      if (root._bokeh_is_loading === 0) {\n        console.debug(\"Bokeh: all BokehJS libraries/stylesheets loaded\");\n        run_callbacks()\n      }\n    }\n\n    function on_error(url) {\n      console.error(\"failed to load \" + url);\n    }\n\n    for (let i = 0; i < css_urls.length; i++) {\n      const url = css_urls[i];\n      const element = document.createElement(\"link\");\n      element.onload = on_load;\n      element.onerror = on_error.bind(null, url);\n      element.rel = \"stylesheet\";\n      element.type = \"text/css\";\n      element.href = url;\n      console.debug(\"Bokeh: injecting link tag for BokehJS stylesheet: \", url);\n      document.body.appendChild(element);\n    }\n\n    for (let i = 0; i < js_urls.length; i++) {\n      const url = js_urls[i];\n      const element = document.createElement('script');\n      element.onload = on_load;\n      element.onerror = on_error.bind(null, url);\n      element.async = false;\n      element.src = url;\n      console.debug(\"Bokeh: injecting script tag for BokehJS library: \", url);\n      document.head.appendChild(element);\n    }\n  };\n\n  function inject_raw_css(css) {\n    const element = document.createElement(\"style\");\n    element.appendChild(document.createTextNode(css));\n    document.body.appendChild(element);\n  }\n\n  const js_urls = [\"https://unpkg.com/@rdkit/rdkit@2023.3.2-1.0.0/Code/MinimalLib/dist/RDKit_minimal.js\", \"https://unpkg.com/smiles-drawer@2.0.1/dist/smiles-drawer.min.js\", \"https://cdn.bokeh.org/bokeh/release/bokeh-3.1.1.min.js\", \"https://cdn.bokeh.org/bokeh/release/bokeh-gl-3.1.1.min.js\", \"https://cdn.bokeh.org/bokeh/release/bokeh-widgets-3.1.1.min.js\", \"https://cdn.bokeh.org/bokeh/release/bokeh-tables-3.1.1.min.js\", \"https://cdn.bokeh.org/bokeh/release/bokeh-mathjax-3.1.1.min.js\"];\n  const css_urls = [];\n\n  const inline_js = [    function(Bokeh) {\n      Bokeh.set_log_level(\"info\");\n    },\n    function(Bokeh) {\n      (function(root, factory) {\n          factory(root[\"Bokeh\"]);\n      })(this, function(Bokeh) {\n        let define;\n        return (function outer(modules, entry) {\n        if (Bokeh != null) {\n          return Bokeh.register_plugin(modules, entry);\n        } else {\n          throw new Error(\"Cannot find Bokeh. You have to load it prior to loading plugins.\");\n        }\n      })\n      ({\n        \"custom/main\": function(require, module, exports) {\n          const models = {\n            \"BaseFormatter\": require(\"custom/bokehmol.models.base_formatter.base_formatter\").BaseFormatter,\n      \"BaseHover\": require(\"custom/bokehmol.models.base_hover.base_hover\").BaseHover,\n      \"RDKitFormatter\": require(\"custom/bokehmol.models.rdkit_formatter.rd_kit_formatter\").RDKitFormatter,\n      \"RDKitHover\": require(\"custom/bokehmol.models.rdkit_hover.rd_kit_hover\").RDKitHover,\n      \"SmilesDrawerFormatter\": require(\"custom/bokehmol.models.smilesdrawer_formatter.smiles_drawer_formatter\").SmilesDrawerFormatter,\n      \"SmilesDrawerHover\": require(\"custom/bokehmol.models.smilesdrawer_hover.smiles_drawer_hover\").SmilesDrawerHover\n          };\n          require(\"base\").register_models(models);\n          module.exports = models;\n        },\n        \"20fbaff78af92f5571a9c987da05f04e90b0e9c8a4faa5d5c05f3e8d4339b9f9\": function(require, module, exports) {\n      \"use strict\";\n      var _a;\n      Object.defineProperty(exports, \"__esModule\", { value: true });\n      exports.SmilesDrawerFormatter = void 0;\n      const base_formatter_1 = require(\"6994ac7a45e1b57c78d9c580ba19be524f239c7c477eaeb9796e7c96bcaebdaf\");\n      class SmilesDrawerFormatter extends base_formatter_1.BaseFormatter {\n          constructor(attrs) {\n              super(attrs);\n          }\n          initialize() {\n              super.initialize();\n              // @ts-ignore\n              this.SmiDrawer = SmiDrawer;\n          }\n          _make_svg_element() {\n              const svg = document.createElementNS(\"http://www.w3.org/2000/svg\", \"svg\");\n              svg.setAttribute(\"xmlns\", \"http://www.w3.org/2000/svg\");\n              svg.setAttribute(\"xmlns:xlink\", \"http://www.w3.org/1999/xlink\");\n              svg.setAttributeNS(null, \"width\", \"\" + this.width);\n              svg.setAttributeNS(null, \"height\", \"\" + this.height);\n              svg.style.backgroundColor = this.background_colour;\n              return svg;\n          }\n          _setup_drawer() {\n              // @ts-ignore\n              const sd = new this.SmiDrawer(this.mol_options, this.reaction_options);\n              this.drawer = sd;\n              return sd;\n          }\n          draw_svg(smiles) {\n              var _b;\n              const sd = (_b = this.drawer) !== null && _b !== void 0 ? _b : this._setup_drawer();\n              const target = this._make_svg_element();\n              sd.draw(smiles, target, this.theme);\n              const svg = target.outerHTML;\n              target.remove();\n              return svg;\n          }\n      }\n      exports.SmilesDrawerFormatter = SmilesDrawerFormatter;\n      _a = SmilesDrawerFormatter;\n      SmilesDrawerFormatter.__name__ = \"SmilesDrawerFormatter\";\n      (() => {\n          _a.define(({ String, Dict, Unknown }) => ({\n              theme: [String, \"light\"],\n              background_colour: [String, \"transparent\"],\n              mol_options: [Dict(Unknown), {}],\n              reaction_options: [Dict(Unknown), {}],\n          }));\n      })();\n      //# sourceMappingURL=smilesdrawer_formatter.js.map\n      },\n      \"543dc31fb80e6ccec71d850ba8aafa58d6bc38e43f8ee6390b791bda4a30eec1\": function(require, module, exports) {\n      \"use strict\";\n      var _a;\n      Object.defineProperty(exports, \"__esModule\", { value: true });\n      exports.BaseHover = exports.BaseHoverView = void 0;\n      const dom_1 = require(\"core/dom\");\n      const templating_1 = require(\"core/util/templating\");\n      const types_1 = require(\"core/util/types\");\n      const hover_tool_1 = require(\"models/tools/inspectors/hover_tool\");\n      const icons_css_1 = require(\"styles/icons.css\");\n      class BaseHoverView extends hover_tool_1.HoverToolView {\n          _render_tooltips(ds, vars) {\n              var _b;\n              const { tooltips, smiles_column } = this.model;\n              const i = vars.index;\n              let user_tooltip = tooltips;\n              if (user_tooltip === null) {\n                  user_tooltip = \"\";\n              }\n              if (!(0, types_1.isString)(user_tooltip)) {\n                  const template = (_b = this._template_el) !== null && _b !== void 0 ? _b : (\n                  // @ts-ignore\n                  this._template_el = this._create_template(user_tooltip));\n                  // @ts-ignore\n                  user_tooltip = this._render_template(template, user_tooltip, ds, vars).outerHTML;\n              }\n              const mol_tooltip = \"<div>@\" + smiles_column + \"{custom}</div>\" + user_tooltip;\n              const content = (0, templating_1.replace_placeholders)({ html: mol_tooltip }, ds, i, this.model.formatters, vars);\n              return (0, dom_1.div)(content);\n          }\n      }\n      exports.BaseHoverView = BaseHoverView;\n      BaseHoverView.__name__ = \"BaseHoverView\";\n      class BaseHover extends hover_tool_1.HoverTool {\n          get computed_icon() {\n              return \"data:image/png;base64,iVBORw0KGgoAAAANSUhEUgAAABYAAAAWCAMAAADzapwJAAAAt1BMVEUAAAAAAAArKyskJCQcHBwrKyscHBwmJiYjIyMhISEgICAfHx8dHR0kJCQiIiIhISEhISEgICAkJCQkJCQjIyMiIiIiIiIhISEkJCQjIyMiIiIiIiIjIyMjIyMkJCQjIyMiIiIkJCQhISEjIyMiIiIiIiIiIiIkJCQjIyMiIiIiIiIiIiIiIiIhISEjIyMjIyMiIiIiIiIjIyMiIiIiIiIhISEiIiIiIiIiIiIiIiIhISEjIyP///9o30WSAAAAPHRSTlMAAQYHCQwSFBYXGBkaKy0uLzAxMjM0NTY5UVJTV1hdYHJyc3V3eHmBk5SVlpeZmpucnaqtrrCytLa7wMBTv07WAAAAAWJLR0Q8p2phzwAAAKRJREFUGBmtwQkagUAAgNF/ZAtZo2yRIrusofvfi+ab0gG8xx85gS8FDjlabJuS/db4WQ1RRksy+p3ZRZpxbZA6t8gYJxRzTc7WQhKPCjnlSJDwXEIdRQ9xPRKeS+eAcurjeiTEo8JhgNTdU44EUm9D9SlIRDV2FkrYZjHhazrHOJLS7xReRSi+CtzqZJYjmiUoNRn7/GixbUr2WyPHCXwpcPifD0UBD3u/QqniAAAAAElFTkSuQmCC\";\n          }\n          constructor(attrs) {\n              super(attrs);\n              this.tool_icon = icons_css_1.tool_icon_hover;\n          }\n      }\n      exports.BaseHover = BaseHover;\n      _a = BaseHover;\n      BaseHover.__name__ = \"BaseHover\";\n      (() => {\n          _a.prototype.default_view = BaseHoverView;\n          _a.define(({ String, Number }) => ({\n              smiles_column: [String, \"SMILES\"],\n              width: [Number, 160],\n              height: [Number, 120],\n          }));\n          _a.override({\n              tooltips: [],\n          });\n      })();\n      //# sourceMappingURL=base_hover.js.map\n      },\n      \"6994ac7a45e1b57c78d9c580ba19be524f239c7c477eaeb9796e7c96bcaebdaf\": function(require, module, exports) {\n      \"use strict\";\n      var _a;\n      Object.defineProperty(exports, \"__esModule\", { value: true });\n      exports.BaseFormatter = void 0;\n      const customjs_hover_1 = require(\"models/tools/inspectors/customjs_hover\");\n      class BaseFormatter extends customjs_hover_1.CustomJSHover {\n          constructor(attrs) {\n              super(attrs);\n          }\n          draw_svg(smiles) {\n              smiles;\n              return \"\";\n          }\n          format(value, format, special_vars) {\n              format;\n              special_vars;\n              return this.draw_svg(value);\n          }\n      }\n      exports.BaseFormatter = BaseFormatter;\n      _a = BaseFormatter;\n      BaseFormatter.__name__ = \"BaseFormatter\";\n      (() => {\n          _a.define(({ Int }) => ({\n              width: [Int, 160],\n              height: [Int, 120],\n          }));\n      })();\n      //# sourceMappingURL=base_formatter.js.map\n      },\n      \"a4baf1f801d229195c6453a11b985837743e1108377f78badeaa51a4f9d39b01\": function(require, module, exports) {\n      \"use strict\";\n      var _a;\n      Object.defineProperty(exports, \"__esModule\", { value: true });\n      exports.RDKitFormatter = void 0;\n      const base_formatter_1 = require(\"6994ac7a45e1b57c78d9c580ba19be524f239c7c477eaeb9796e7c96bcaebdaf\");\n      class RDKitFormatter extends base_formatter_1.BaseFormatter {\n          constructor(attrs) {\n              super(attrs);\n          }\n          initialize() {\n              super.initialize();\n              // @ts-ignore\n              initRDKitModule().then((RDKitModule) => {\n                  this.RDKitModule = RDKitModule;\n                  console.log(\"RDKit version: \" + RDKitModule.version());\n              });\n          }\n          _setup_options() {\n              this.RDKitModule.prefer_coordgen(this.prefer_coordgen);\n              this.json_mol_opts = JSON.stringify({\n                  removeHs: this.remove_hs,\n                  sanitize: this.sanitize,\n                  kekulize: this.kekulize,\n              });\n              this.json_draw_opts = JSON.stringify(Object.assign({ width: this.width, height: this.height }, this.draw_options));\n              return this.json_draw_opts;\n          }\n          draw_svg(smiles) {\n              var _b;\n              const draw_opts = (_b = this.json_draw_opts) !== null && _b !== void 0 ? _b : this._setup_options();\n              const mol = this.RDKitModule.get_mol(smiles, this.json_mol_opts);\n              if (mol !== null && mol.is_valid()) {\n                  const svg = mol.get_svg_with_highlights(draw_opts);\n                  mol.delete();\n                  return svg;\n              }\n              return super.draw_svg(smiles);\n          }\n      }\n      exports.RDKitFormatter = RDKitFormatter;\n      _a = RDKitFormatter;\n      RDKitFormatter.__name__ = \"RDKitFormatter\";\n      (() => {\n          _a.define(({ Boolean, Dict, Unknown }) => ({\n              prefer_coordgen: [Boolean, true],\n              remove_hs: [Boolean, true],\n              sanitize: [Boolean, true],\n              kekulize: [Boolean, true],\n              draw_options: [Dict(Unknown), {}],\n          }));\n      })();\n      //# sourceMappingURL=rdkit_formatter.js.map\n      },\n      \"custom/bokehmol.models.base_formatter.base_formatter\": function(require, module, exports) {\n      \"use strict\";\n      var _a;\n      Object.defineProperty(exports, \"__esModule\", { value: true });\n      exports.BaseFormatter = void 0;\n      const customjs_hover_1 = require(\"models/tools/inspectors/customjs_hover\");\n      class BaseFormatter extends customjs_hover_1.CustomJSHover {\n          constructor(attrs) {\n              super(attrs);\n          }\n          draw_svg(smiles) {\n              smiles;\n              return \"\";\n          }\n          format(value, format, special_vars) {\n              format;\n              special_vars;\n              return this.draw_svg(value);\n          }\n      }\n      exports.BaseFormatter = BaseFormatter;\n      _a = BaseFormatter;\n      BaseFormatter.__name__ = \"BaseFormatter\";\n      (() => {\n          _a.define(({ Int }) => ({\n              width: [Int, 160],\n              height: [Int, 120],\n          }));\n      })();\n      //# sourceMappingURL=base_formatter.js.map\n      },\n      \"custom/bokehmol.models.base_hover.base_hover\": function(require, module, exports) {\n      \"use strict\";\n      var _a;\n      Object.defineProperty(exports, \"__esModule\", { value: true });\n      exports.BaseHover = exports.BaseHoverView = void 0;\n      const dom_1 = require(\"core/dom\");\n      const templating_1 = require(\"core/util/templating\");\n      const types_1 = require(\"core/util/types\");\n      const hover_tool_1 = require(\"models/tools/inspectors/hover_tool\");\n      const icons_css_1 = require(\"styles/icons.css\");\n      class BaseHoverView extends hover_tool_1.HoverToolView {\n          _render_tooltips(ds, vars) {\n              var _b;\n              const { tooltips, smiles_column } = this.model;\n              const i = vars.index;\n              let user_tooltip = tooltips;\n              if (user_tooltip === null) {\n                  user_tooltip = \"\";\n              }\n              if (!(0, types_1.isString)(user_tooltip)) {\n                  const template = (_b = this._template_el) !== null && _b !== void 0 ? _b : (\n                  // @ts-ignore\n                  this._template_el = this._create_template(user_tooltip));\n                  // @ts-ignore\n                  user_tooltip = this._render_template(template, user_tooltip, ds, vars).outerHTML;\n              }\n              const mol_tooltip = \"<div>@\" + smiles_column + \"{custom}</div>\" + user_tooltip;\n              const content = (0, templating_1.replace_placeholders)({ html: mol_tooltip }, ds, i, this.model.formatters, vars);\n              return (0, dom_1.div)(content);\n          }\n      }\n      exports.BaseHoverView = BaseHoverView;\n      BaseHoverView.__name__ = \"BaseHoverView\";\n      class BaseHover extends hover_tool_1.HoverTool {\n          get computed_icon() {\n              return \"data:image/png;base64,iVBORw0KGgoAAAANSUhEUgAAABYAAAAWCAMAAADzapwJAAAAt1BMVEUAAAAAAAArKyskJCQcHBwrKyscHBwmJiYjIyMhISEgICAfHx8dHR0kJCQiIiIhISEhISEgICAkJCQkJCQjIyMiIiIiIiIhISEkJCQjIyMiIiIiIiIjIyMjIyMkJCQjIyMiIiIkJCQhISEjIyMiIiIiIiIiIiIkJCQjIyMiIiIiIiIiIiIiIiIhISEjIyMjIyMiIiIiIiIjIyMiIiIiIiIhISEiIiIiIiIiIiIiIiIhISEjIyP///9o30WSAAAAPHRSTlMAAQYHCQwSFBYXGBkaKy0uLzAxMjM0NTY5UVJTV1hdYHJyc3V3eHmBk5SVlpeZmpucnaqtrrCytLa7wMBTv07WAAAAAWJLR0Q8p2phzwAAAKRJREFUGBmtwQkagUAAgNF/ZAtZo2yRIrusofvfi+ab0gG8xx85gS8FDjlabJuS/db4WQ1RRksy+p3ZRZpxbZA6t8gYJxRzTc7WQhKPCjnlSJDwXEIdRQ9xPRKeS+eAcurjeiTEo8JhgNTdU44EUm9D9SlIRDV2FkrYZjHhazrHOJLS7xReRSi+CtzqZJYjmiUoNRn7/GixbUr2WyPHCXwpcPifD0UBD3u/QqniAAAAAElFTkSuQmCC\";\n          }\n          constructor(attrs) {\n              super(attrs);\n              this.tool_icon = icons_css_1.tool_icon_hover;\n          }\n      }\n      exports.BaseHover = BaseHover;\n      _a = BaseHover;\n      BaseHover.__name__ = \"BaseHover\";\n      (() => {\n          _a.prototype.default_view = BaseHoverView;\n          _a.define(({ String, Number }) => ({\n              smiles_column: [String, \"SMILES\"],\n              width: [Number, 160],\n              height: [Number, 120],\n          }));\n          _a.override({\n              tooltips: [],\n          });\n      })();\n      //# sourceMappingURL=base_hover.js.map\n      },\n      \"custom/bokehmol.models.rdkit_formatter.rd_kit_formatter\": function(require, module, exports) {\n      \"use strict\";\n      var _a;\n      Object.defineProperty(exports, \"__esModule\", { value: true });\n      exports.RDKitFormatter = void 0;\n      const base_formatter_1 = require(\"6994ac7a45e1b57c78d9c580ba19be524f239c7c477eaeb9796e7c96bcaebdaf\");\n      class RDKitFormatter extends base_formatter_1.BaseFormatter {\n          constructor(attrs) {\n              super(attrs);\n          }\n          initialize() {\n              super.initialize();\n              // @ts-ignore\n              initRDKitModule().then((RDKitModule) => {\n                  this.RDKitModule = RDKitModule;\n                  console.log(\"RDKit version: \" + RDKitModule.version());\n              });\n          }\n          _setup_options() {\n              this.RDKitModule.prefer_coordgen(this.prefer_coordgen);\n              this.json_mol_opts = JSON.stringify({\n                  removeHs: this.remove_hs,\n                  sanitize: this.sanitize,\n                  kekulize: this.kekulize,\n              });\n              this.json_draw_opts = JSON.stringify(Object.assign({ width: this.width, height: this.height }, this.draw_options));\n              return this.json_draw_opts;\n          }\n          draw_svg(smiles) {\n              var _b;\n              const draw_opts = (_b = this.json_draw_opts) !== null && _b !== void 0 ? _b : this._setup_options();\n              const mol = this.RDKitModule.get_mol(smiles, this.json_mol_opts);\n              if (mol !== null && mol.is_valid()) {\n                  const svg = mol.get_svg_with_highlights(draw_opts);\n                  mol.delete();\n                  return svg;\n              }\n              return super.draw_svg(smiles);\n          }\n      }\n      exports.RDKitFormatter = RDKitFormatter;\n      _a = RDKitFormatter;\n      RDKitFormatter.__name__ = \"RDKitFormatter\";\n      (() => {\n          _a.define(({ Boolean, Dict, Unknown }) => ({\n              prefer_coordgen: [Boolean, true],\n              remove_hs: [Boolean, true],\n              sanitize: [Boolean, true],\n              kekulize: [Boolean, true],\n              draw_options: [Dict(Unknown), {}],\n          }));\n      })();\n      //# sourceMappingURL=rdkit_formatter.js.map\n      },\n      \"custom/bokehmol.models.rdkit_hover.rd_kit_hover\": function(require, module, exports) {\n      \"use strict\";\n      var _a;\n      Object.defineProperty(exports, \"__esModule\", { value: true });\n      exports.RDKitHover = exports.RDKitHoverView = void 0;\n      const base_hover_1 = require(\"543dc31fb80e6ccec71d850ba8aafa58d6bc38e43f8ee6390b791bda4a30eec1\");\n      const rdkit_formatter_1 = require(\"a4baf1f801d229195c6453a11b985837743e1108377f78badeaa51a4f9d39b01\");\n      class RDKitHoverView extends base_hover_1.BaseHoverView {\n          initialize() {\n              super.initialize();\n              const { formatters, smiles_column, width, height, prefer_coordgen, remove_hs, sanitize, kekulize, draw_options } = this.model;\n              formatters[\"@\" + smiles_column] = new rdkit_formatter_1.RDKitFormatter({\n                  width: width,\n                  height: height,\n                  prefer_coordgen: prefer_coordgen,\n                  remove_hs: remove_hs,\n                  sanitize: sanitize,\n                  kekulize: kekulize,\n                  draw_options: draw_options,\n              });\n          }\n      }\n      exports.RDKitHoverView = RDKitHoverView;\n      RDKitHoverView.__name__ = \"RDKitHoverView\";\n      class RDKitHover extends base_hover_1.BaseHover {\n          get computed_icon() {\n              return \"data:image/png;base64,iVBORw0KGgoAAAANSUhEUgAAABAAAAAQBAMAAADt3eJSAAAABGdBTUEAALGPC/xhBQAAACBjSFJNAAB6JgAAgIQAAPoAAACA6AAAdTAAAOpgAAA6mAAAF3CculE8AAAAFVBMVEXc3NwUFP8UPP9kZP+MjP+0tP////9ZXZotAAAAAXRSTlMAQObYZgAAAAFiS0dEBmFmuH0AAAAHdElNRQfmAwsPGi+MyC9RAAAAQElEQVQI12NgQABGQUEBMENISUkRLKBsbGwEEhIyBgJFsICLC0iIUdnExcUZwnANQWfApKCK4doRBsKtQFgKAQC5Ww1JEHSEkAAAACV0RVh0ZGF0ZTpjcmVhdGUAMjAyMi0wMy0xMVQxNToyNjo0NyswMDowMDzr2J4AAAAldEVYdGRhdGU6bW9kaWZ5ADIwMjItMDMtMTFUMTU6MjY6NDcrMDA6MDBNtmAiAAAAAElFTkSuQmCC\";\n          }\n          constructor(attrs) {\n              super(attrs);\n              this.tool_name = \"RDKit Hover\";\n          }\n      }\n      exports.RDKitHover = RDKitHover;\n      _a = RDKitHover;\n      RDKitHover.__name__ = \"RDKitHover\";\n      (() => {\n          _a.prototype.default_view = RDKitHoverView;\n          _a.define(({ Boolean, Dict, Unknown }) => ({\n              prefer_coordgen: [Boolean, true],\n              remove_hs: [Boolean, true],\n              sanitize: [Boolean, true],\n              kekulize: [Boolean, true],\n              draw_options: [Dict(Unknown), {}],\n          }));\n          _a.register_alias(\"rdkit_hover\", () => new RDKitHover());\n      })();\n      //# sourceMappingURL=rdkit_hover.js.map\n      },\n      \"custom/bokehmol.models.smilesdrawer_formatter.smiles_drawer_formatter\": function(require, module, exports) {\n      \"use strict\";\n      var _a;\n      Object.defineProperty(exports, \"__esModule\", { value: true });\n      exports.SmilesDrawerFormatter = void 0;\n      const base_formatter_1 = require(\"6994ac7a45e1b57c78d9c580ba19be524f239c7c477eaeb9796e7c96bcaebdaf\");\n      class SmilesDrawerFormatter extends base_formatter_1.BaseFormatter {\n          constructor(attrs) {\n              super(attrs);\n          }\n          initialize() {\n              super.initialize();\n              // @ts-ignore\n              this.SmiDrawer = SmiDrawer;\n          }\n          _make_svg_element() {\n              const svg = document.createElementNS(\"http://www.w3.org/2000/svg\", \"svg\");\n              svg.setAttribute(\"xmlns\", \"http://www.w3.org/2000/svg\");\n              svg.setAttribute(\"xmlns:xlink\", \"http://www.w3.org/1999/xlink\");\n              svg.setAttributeNS(null, \"width\", \"\" + this.width);\n              svg.setAttributeNS(null, \"height\", \"\" + this.height);\n              svg.style.backgroundColor = this.background_colour;\n              return svg;\n          }\n          _setup_drawer() {\n              // @ts-ignore\n              const sd = new this.SmiDrawer(this.mol_options, this.reaction_options);\n              this.drawer = sd;\n              return sd;\n          }\n          draw_svg(smiles) {\n              var _b;\n              const sd = (_b = this.drawer) !== null && _b !== void 0 ? _b : this._setup_drawer();\n              const target = this._make_svg_element();\n              sd.draw(smiles, target, this.theme);\n              const svg = target.outerHTML;\n              target.remove();\n              return svg;\n          }\n      }\n      exports.SmilesDrawerFormatter = SmilesDrawerFormatter;\n      _a = SmilesDrawerFormatter;\n      SmilesDrawerFormatter.__name__ = \"SmilesDrawerFormatter\";\n      (() => {\n          _a.define(({ String, Dict, Unknown }) => ({\n              theme: [String, \"light\"],\n              background_colour: [String, \"transparent\"],\n              mol_options: [Dict(Unknown), {}],\n              reaction_options: [Dict(Unknown), {}],\n          }));\n      })();\n      //# sourceMappingURL=smilesdrawer_formatter.js.map\n      },\n      \"custom/bokehmol.models.smilesdrawer_hover.smiles_drawer_hover\": function(require, module, exports) {\n      \"use strict\";\n      var _a;\n      Object.defineProperty(exports, \"__esModule\", { value: true });\n      exports.SmilesDrawerHover = exports.SmilesDrawerHoverView = void 0;\n      const base_hover_1 = require(\"543dc31fb80e6ccec71d850ba8aafa58d6bc38e43f8ee6390b791bda4a30eec1\");\n      const smilesdrawer_formatter_1 = require(\"20fbaff78af92f5571a9c987da05f04e90b0e9c8a4faa5d5c05f3e8d4339b9f9\");\n      class SmilesDrawerHoverView extends base_hover_1.BaseHoverView {\n          initialize() {\n              super.initialize();\n              const { formatters, smiles_column, width, height, theme, background_colour, mol_options, reaction_options, } = this.model;\n              formatters[\"@\" + smiles_column] = new smilesdrawer_formatter_1.SmilesDrawerFormatter({\n                  width: width,\n                  height: height,\n                  theme: theme,\n                  background_colour: background_colour,\n                  mol_options: mol_options,\n                  reaction_options: reaction_options,\n              });\n          }\n      }\n      exports.SmilesDrawerHoverView = SmilesDrawerHoverView;\n      SmilesDrawerHoverView.__name__ = \"SmilesDrawerHoverView\";\n      class SmilesDrawerHover extends base_hover_1.BaseHover {\n          constructor(attrs) {\n              super(attrs);\n              this.tool_name = \"SmilesDrawer Hover\";\n          }\n      }\n      exports.SmilesDrawerHover = SmilesDrawerHover;\n      _a = SmilesDrawerHover;\n      SmilesDrawerHover.__name__ = \"SmilesDrawerHover\";\n      (() => {\n          _a.prototype.default_view = SmilesDrawerHoverView;\n          _a.define(({ String, Dict, Unknown }) => ({\n              theme: [String, \"light\"],\n              background_colour: [String, \"transparent\"],\n              mol_options: [Dict(Unknown), {}],\n              reaction_options: [Dict(Unknown), {}],\n          }));\n          _a.register_alias(\"smiles_hover\", () => new SmilesDrawerHover());\n      })();\n      //# sourceMappingURL=smilesdrawer_hover.js.map\n      }\n      }, \"custom/main\");\n      ;\n      });\n\n    },\nfunction(Bokeh) {\n    }\n  ];\n\n  function run_inline_js() {\n    if (root.Bokeh !== undefined || force === true) {\n          for (let i = 0; i < inline_js.length; i++) {\n      inline_js[i].call(root, root.Bokeh);\n    }\nif (force === true) {\n        display_loaded();\n      }} else if (Date.now() < root._bokeh_timeout) {\n      setTimeout(run_inline_js, 100);\n    } else if (!root._bokeh_failed_load) {\n      console.log(\"Bokeh: BokehJS failed to load within specified timeout.\");\n      root._bokeh_failed_load = true;\n    } else if (force !== true) {\n      const cell = $(document.getElementById(\"db88c29c-ffa8-4724-9e7e-2cd2f3416c06\")).parents('.cell').data().cell;\n      cell.output_area.append_execute_result(NB_LOAD_WARNING)\n    }\n  }\n\n  if (root._bokeh_is_loading === 0) {\n    console.debug(\"Bokeh: BokehJS loaded, going straight to plotting\");\n    run_inline_js();\n  } else {\n    load_libs(css_urls, js_urls, function() {\n      console.debug(\"Bokeh: BokehJS plotting callback run at\", now());\n      run_inline_js();\n    });\n  }\n}(window));",
      "application/vnd.bokehjs_load.v0+json": ""
     },
     "metadata": {},
     "output_type": "display_data"
    }
   ],
   "source": [
    "import bokehmol\n",
    "\n",
    "from bokeh.models import ColumnDataSource\n",
    "from bokeh.plotting import figure, show\n",
    "from bokeh.io import output_notebook\n",
    "\n",
    "output_notebook()"
   ]
  },
  {
   "cell_type": "code",
   "execution_count": 2,
   "metadata": {},
   "outputs": [],
   "source": [
    "# example dataset\n",
    "source = ColumnDataSource(\n",
    "    data=dict(\n",
    "        x=[1, 2, 3, 4, 5],\n",
    "        y=[6, 7, 2, 4, 5],\n",
    "        SMILES=[\n",
    "            \"O=C1CCCN1C\",\n",
    "            \"c1ccccc1\",\n",
    "            \"CN1C(=O)N(C)c2ncn(C)c2C1(=O)\",\n",
    "            \"C1C(=O)C=C2CCC3C4CCC(C(=O)CO)C4(C)CCC3C2(C)C1\",\n",
    "            \"ClC1C=CC2C1C3(Cl)C(=C(Cl)C2(Cl)C3(Cl)Cl)Cl\",\n",
    "        ]\n",
    "    )\n",
    ")"
   ]
  },
  {
   "cell_type": "markdown",
   "metadata": {},
   "source": [
    "The easiest way to use `bokehmol` is to import the package and then specify either `rdkit-hover` or `smiles-hover` in the `tools` parameter of the `bokeh` figure. This assumes that your `ColumnDataSource` containing your data has a `SMILES` column:"
   ]
  },
  {
   "cell_type": "code",
   "execution_count": 3,
   "metadata": {},
   "outputs": [
    {
     "data": {
      "text/html": [
       "\n",
       "  <div id=\"b1d066b2-3ca4-4f12-94a0-bd6e49b018fe\" data-root-id=\"p1004\" style=\"display: contents;\"></div>\n"
      ]
     },
     "metadata": {},
     "output_type": "display_data"
    },
    {
     "data": {
      "application/javascript": "(function(root) {\n  function embed_document(root) {\n  const docs_json = {\"e45942dc-7020-48d2-8d92-4b3ce2a3a1ed\":{\"version\":\"3.1.1\",\"title\":\"Bokeh Application\",\"defs\":[],\"roots\":[{\"type\":\"object\",\"name\":\"Figure\",\"id\":\"p1004\",\"attributes\":{\"height\":300,\"x_range\":{\"type\":\"object\",\"name\":\"DataRange1d\",\"id\":\"p1005\"},\"y_range\":{\"type\":\"object\",\"name\":\"DataRange1d\",\"id\":\"p1006\"},\"x_scale\":{\"type\":\"object\",\"name\":\"LinearScale\",\"id\":\"p1018\"},\"y_scale\":{\"type\":\"object\",\"name\":\"LinearScale\",\"id\":\"p1020\"},\"title\":{\"type\":\"object\",\"name\":\"Title\",\"id\":\"p1007\",\"attributes\":{\"text\":\"Basic RDKit Hover\"}},\"renderers\":[{\"type\":\"object\",\"name\":\"GlyphRenderer\",\"id\":\"p1049\",\"attributes\":{\"data_source\":{\"type\":\"object\",\"name\":\"ColumnDataSource\",\"id\":\"p1001\",\"attributes\":{\"selected\":{\"type\":\"object\",\"name\":\"Selection\",\"id\":\"p1002\",\"attributes\":{\"indices\":[],\"line_indices\":[]}},\"selection_policy\":{\"type\":\"object\",\"name\":\"UnionRenderers\",\"id\":\"p1003\"},\"data\":{\"type\":\"map\",\"entries\":[[\"x\",[1,2,3,4,5]],[\"y\",[6,7,2,4,5]],[\"SMILES\",[\"O=C1CCCN1C\",\"c1ccccc1\",\"CN1C(=O)N(C)c2ncn(C)c2C1(=O)\",\"C1C(=O)C=C2CCC3C4CCC(C(=O)CO)C4(C)CCC3C2(C)C1\",\"ClC1C=CC2C1C3(Cl)C(=C(Cl)C2(Cl)C3(Cl)Cl)Cl\"]]]}}},\"view\":{\"type\":\"object\",\"name\":\"CDSView\",\"id\":\"p1050\",\"attributes\":{\"filter\":{\"type\":\"object\",\"name\":\"AllIndices\",\"id\":\"p1051\"}}},\"glyph\":{\"type\":\"object\",\"name\":\"Circle\",\"id\":\"p1046\",\"attributes\":{\"x\":{\"type\":\"field\",\"field\":\"x\"},\"y\":{\"type\":\"field\",\"field\":\"y\"},\"size\":{\"type\":\"value\",\"value\":15},\"line_color\":{\"type\":\"value\",\"value\":\"#1f77b4\"},\"line_width\":{\"type\":\"value\",\"value\":0},\"fill_color\":{\"type\":\"value\",\"value\":\"firebrick\"}}},\"nonselection_glyph\":{\"type\":\"object\",\"name\":\"Circle\",\"id\":\"p1047\",\"attributes\":{\"x\":{\"type\":\"field\",\"field\":\"x\"},\"y\":{\"type\":\"field\",\"field\":\"y\"},\"size\":{\"type\":\"value\",\"value\":15},\"line_color\":{\"type\":\"value\",\"value\":\"#1f77b4\"},\"line_alpha\":{\"type\":\"value\",\"value\":0.1},\"line_width\":{\"type\":\"value\",\"value\":0},\"fill_color\":{\"type\":\"value\",\"value\":\"firebrick\"},\"fill_alpha\":{\"type\":\"value\",\"value\":0.1},\"hatch_alpha\":{\"type\":\"value\",\"value\":0.1}}},\"muted_glyph\":{\"type\":\"object\",\"name\":\"Circle\",\"id\":\"p1048\",\"attributes\":{\"x\":{\"type\":\"field\",\"field\":\"x\"},\"y\":{\"type\":\"field\",\"field\":\"y\"},\"size\":{\"type\":\"value\",\"value\":15},\"line_color\":{\"type\":\"value\",\"value\":\"#1f77b4\"},\"line_alpha\":{\"type\":\"value\",\"value\":0.2},\"line_width\":{\"type\":\"value\",\"value\":0},\"fill_color\":{\"type\":\"value\",\"value\":\"firebrick\"},\"fill_alpha\":{\"type\":\"value\",\"value\":0.2},\"hatch_alpha\":{\"type\":\"value\",\"value\":0.2}}}}}],\"toolbar\":{\"type\":\"object\",\"name\":\"Toolbar\",\"id\":\"p1009\",\"attributes\":{\"tools\":[{\"type\":\"object\",\"name\":\"RDKitHover\",\"id\":\"p1036\",\"attributes\":{\"renderers\":\"auto\"}},{\"type\":\"object\",\"name\":\"PanTool\",\"id\":\"p1037\"},{\"type\":\"object\",\"name\":\"WheelZoomTool\",\"id\":\"p1038\"}]}},\"left\":[{\"type\":\"object\",\"name\":\"LinearAxis\",\"id\":\"p1029\",\"attributes\":{\"ticker\":{\"type\":\"object\",\"name\":\"BasicTicker\",\"id\":\"p1031\",\"attributes\":{\"mantissas\":[1,2,5]}},\"formatter\":{\"type\":\"object\",\"name\":\"BasicTickFormatter\",\"id\":\"p1032\"},\"major_label_policy\":{\"type\":\"object\",\"name\":\"AllLabels\",\"id\":\"p1030\"}}}],\"below\":[{\"type\":\"object\",\"name\":\"LinearAxis\",\"id\":\"p1022\",\"attributes\":{\"ticker\":{\"type\":\"object\",\"name\":\"BasicTicker\",\"id\":\"p1024\",\"attributes\":{\"mantissas\":[1,2,5]}},\"formatter\":{\"type\":\"object\",\"name\":\"BasicTickFormatter\",\"id\":\"p1025\"},\"major_label_policy\":{\"type\":\"object\",\"name\":\"AllLabels\",\"id\":\"p1023\"}}}],\"center\":[{\"type\":\"object\",\"name\":\"Grid\",\"id\":\"p1028\",\"attributes\":{\"axis\":{\"id\":\"p1022\"}}},{\"type\":\"object\",\"name\":\"Grid\",\"id\":\"p1035\",\"attributes\":{\"dimension\":1,\"axis\":{\"id\":\"p1029\"}}}],\"background_fill_color\":\"#efefef\"}}],\"callbacks\":{\"type\":\"map\"}}};\n  const render_items = [{\"docid\":\"e45942dc-7020-48d2-8d92-4b3ce2a3a1ed\",\"roots\":{\"p1004\":\"b1d066b2-3ca4-4f12-94a0-bd6e49b018fe\"},\"root_ids\":[\"p1004\"]}];\n  root.Bokeh.embed.embed_items_notebook(docs_json, render_items);\n  }\n  if (root.Bokeh !== undefined) {\n    embed_document(root);\n  } else {\n    let attempts = 0;\n    const timer = setInterval(function(root) {\n      if (root.Bokeh !== undefined) {\n        clearInterval(timer);\n        embed_document(root);\n      } else {\n        attempts++;\n        if (attempts > 100) {\n          clearInterval(timer);\n          console.log(\"Bokeh: ERROR: Unable to run BokehJS code because BokehJS library is missing\");\n        }\n      }\n    }, 10, root)\n  }\n})(window);",
      "application/vnd.bokehjs_exec.v0+json": ""
     },
     "metadata": {
      "application/vnd.bokehjs_exec.v0+json": {
       "id": "p1004"
      }
     },
     "output_type": "display_data"
    }
   ],
   "source": [
    "plot = figure(\n",
    "    width=600, height=300,\n",
    "    title=\"Basic RDKit Hover\",\n",
    "    background_fill_color=\"#efefef\",\n",
    "    tools=\"rdkit_hover,pan,wheel_zoom\",\n",
    ")\n",
    "\n",
    "plot.circle(\"x\", \"y\", size=15, line_width=0, fill_color=\"firebrick\", source=source)\n",
    "\n",
    "show(plot)"
   ]
  },
  {
   "cell_type": "code",
   "execution_count": 4,
   "metadata": {},
   "outputs": [
    {
     "data": {
      "text/html": [
       "\n",
       "  <div id=\"ebb65123-3f7b-4cee-923f-3ef80cf98860\" data-root-id=\"p1124\" style=\"display: contents;\"></div>\n"
      ]
     },
     "metadata": {},
     "output_type": "display_data"
    },
    {
     "data": {
      "application/javascript": "(function(root) {\n  function embed_document(root) {\n  const docs_json = {\"f3a9f2f7-fb6c-4713-b7cb-754d6bed66a8\":{\"version\":\"3.1.1\",\"title\":\"Bokeh Application\",\"defs\":[],\"roots\":[{\"type\":\"object\",\"name\":\"Figure\",\"id\":\"p1124\",\"attributes\":{\"height\":300,\"x_range\":{\"type\":\"object\",\"name\":\"DataRange1d\",\"id\":\"p1125\"},\"y_range\":{\"type\":\"object\",\"name\":\"DataRange1d\",\"id\":\"p1126\"},\"x_scale\":{\"type\":\"object\",\"name\":\"LinearScale\",\"id\":\"p1138\"},\"y_scale\":{\"type\":\"object\",\"name\":\"LinearScale\",\"id\":\"p1140\"},\"title\":{\"type\":\"object\",\"name\":\"Title\",\"id\":\"p1127\",\"attributes\":{\"text\":\"Basic SmilesDrawer Hover\"}},\"renderers\":[{\"type\":\"object\",\"name\":\"GlyphRenderer\",\"id\":\"p1169\",\"attributes\":{\"data_source\":{\"type\":\"object\",\"name\":\"ColumnDataSource\",\"id\":\"p1001\",\"attributes\":{\"selected\":{\"type\":\"object\",\"name\":\"Selection\",\"id\":\"p1002\",\"attributes\":{\"indices\":[],\"line_indices\":[]}},\"selection_policy\":{\"type\":\"object\",\"name\":\"UnionRenderers\",\"id\":\"p1003\"},\"data\":{\"type\":\"map\",\"entries\":[[\"x\",[1,2,3,4,5]],[\"y\",[6,7,2,4,5]],[\"SMILES\",[\"O=C1CCCN1C\",\"c1ccccc1\",\"CN1C(=O)N(C)c2ncn(C)c2C1(=O)\",\"C1C(=O)C=C2CCC3C4CCC(C(=O)CO)C4(C)CCC3C2(C)C1\",\"ClC1C=CC2C1C3(Cl)C(=C(Cl)C2(Cl)C3(Cl)Cl)Cl\"]]]}}},\"view\":{\"type\":\"object\",\"name\":\"CDSView\",\"id\":\"p1170\",\"attributes\":{\"filter\":{\"type\":\"object\",\"name\":\"AllIndices\",\"id\":\"p1171\"}}},\"glyph\":{\"type\":\"object\",\"name\":\"Circle\",\"id\":\"p1166\",\"attributes\":{\"x\":{\"type\":\"field\",\"field\":\"x\"},\"y\":{\"type\":\"field\",\"field\":\"y\"},\"size\":{\"type\":\"value\",\"value\":15},\"line_color\":{\"type\":\"value\",\"value\":\"#1f77b4\"},\"line_width\":{\"type\":\"value\",\"value\":0},\"fill_color\":{\"type\":\"value\",\"value\":\"firebrick\"}}},\"nonselection_glyph\":{\"type\":\"object\",\"name\":\"Circle\",\"id\":\"p1167\",\"attributes\":{\"x\":{\"type\":\"field\",\"field\":\"x\"},\"y\":{\"type\":\"field\",\"field\":\"y\"},\"size\":{\"type\":\"value\",\"value\":15},\"line_color\":{\"type\":\"value\",\"value\":\"#1f77b4\"},\"line_alpha\":{\"type\":\"value\",\"value\":0.1},\"line_width\":{\"type\":\"value\",\"value\":0},\"fill_color\":{\"type\":\"value\",\"value\":\"firebrick\"},\"fill_alpha\":{\"type\":\"value\",\"value\":0.1},\"hatch_alpha\":{\"type\":\"value\",\"value\":0.1}}},\"muted_glyph\":{\"type\":\"object\",\"name\":\"Circle\",\"id\":\"p1168\",\"attributes\":{\"x\":{\"type\":\"field\",\"field\":\"x\"},\"y\":{\"type\":\"field\",\"field\":\"y\"},\"size\":{\"type\":\"value\",\"value\":15},\"line_color\":{\"type\":\"value\",\"value\":\"#1f77b4\"},\"line_alpha\":{\"type\":\"value\",\"value\":0.2},\"line_width\":{\"type\":\"value\",\"value\":0},\"fill_color\":{\"type\":\"value\",\"value\":\"firebrick\"},\"fill_alpha\":{\"type\":\"value\",\"value\":0.2},\"hatch_alpha\":{\"type\":\"value\",\"value\":0.2}}}}}],\"toolbar\":{\"type\":\"object\",\"name\":\"Toolbar\",\"id\":\"p1129\",\"attributes\":{\"tools\":[{\"type\":\"object\",\"name\":\"SmilesDrawerHover\",\"id\":\"p1156\",\"attributes\":{\"renderers\":\"auto\"}},{\"type\":\"object\",\"name\":\"PanTool\",\"id\":\"p1157\"},{\"type\":\"object\",\"name\":\"WheelZoomTool\",\"id\":\"p1158\"}]}},\"left\":[{\"type\":\"object\",\"name\":\"LinearAxis\",\"id\":\"p1149\",\"attributes\":{\"ticker\":{\"type\":\"object\",\"name\":\"BasicTicker\",\"id\":\"p1151\",\"attributes\":{\"mantissas\":[1,2,5]}},\"formatter\":{\"type\":\"object\",\"name\":\"BasicTickFormatter\",\"id\":\"p1152\"},\"major_label_policy\":{\"type\":\"object\",\"name\":\"AllLabels\",\"id\":\"p1150\"}}}],\"below\":[{\"type\":\"object\",\"name\":\"LinearAxis\",\"id\":\"p1142\",\"attributes\":{\"ticker\":{\"type\":\"object\",\"name\":\"BasicTicker\",\"id\":\"p1144\",\"attributes\":{\"mantissas\":[1,2,5]}},\"formatter\":{\"type\":\"object\",\"name\":\"BasicTickFormatter\",\"id\":\"p1145\"},\"major_label_policy\":{\"type\":\"object\",\"name\":\"AllLabels\",\"id\":\"p1143\"}}}],\"center\":[{\"type\":\"object\",\"name\":\"Grid\",\"id\":\"p1148\",\"attributes\":{\"axis\":{\"id\":\"p1142\"}}},{\"type\":\"object\",\"name\":\"Grid\",\"id\":\"p1155\",\"attributes\":{\"dimension\":1,\"axis\":{\"id\":\"p1149\"}}}],\"background_fill_color\":\"#efefef\"}}],\"callbacks\":{\"type\":\"map\"}}};\n  const render_items = [{\"docid\":\"f3a9f2f7-fb6c-4713-b7cb-754d6bed66a8\",\"roots\":{\"p1124\":\"ebb65123-3f7b-4cee-923f-3ef80cf98860\"},\"root_ids\":[\"p1124\"]}];\n  root.Bokeh.embed.embed_items_notebook(docs_json, render_items);\n  }\n  if (root.Bokeh !== undefined) {\n    embed_document(root);\n  } else {\n    let attempts = 0;\n    const timer = setInterval(function(root) {\n      if (root.Bokeh !== undefined) {\n        clearInterval(timer);\n        embed_document(root);\n      } else {\n        attempts++;\n        if (attempts > 100) {\n          clearInterval(timer);\n          console.log(\"Bokeh: ERROR: Unable to run BokehJS code because BokehJS library is missing\");\n        }\n      }\n    }, 10, root)\n  }\n})(window);",
      "application/vnd.bokehjs_exec.v0+json": ""
     },
     "metadata": {
      "application/vnd.bokehjs_exec.v0+json": {
       "id": "p1124"
      }
     },
     "output_type": "display_data"
    }
   ],
   "source": [
    "plot = figure(\n",
    "    width=600, height=300,\n",
    "    title=\"Basic SmilesDrawer Hover\",\n",
    "    background_fill_color=\"#efefef\",\n",
    "    tools=\"smiles_hover,pan,wheel_zoom\",\n",
    ")\n",
    "\n",
    "plot.circle(\"x\", \"y\", size=15, line_width=0, fill_color=\"firebrick\", source=source)\n",
    "\n",
    "show(plot)"
   ]
  },
  {
   "cell_type": "markdown",
   "metadata": {},
   "source": [
    "If your SMILES column has a different name, you can instantiate the molecule-hover tool directly:"
   ]
  },
  {
   "cell_type": "code",
   "execution_count": 5,
   "metadata": {},
   "outputs": [
    {
     "data": {
      "text/html": [
       "\n",
       "  <div id=\"d0b95ef7-a3a1-47fc-ba6f-e9f618136b36\" data-root-id=\"p1256\" style=\"display: contents;\"></div>\n"
      ]
     },
     "metadata": {},
     "output_type": "display_data"
    },
    {
     "data": {
      "application/javascript": "(function(root) {\n  function embed_document(root) {\n  const docs_json = {\"37cfbb4a-c1f5-4fdb-b0bb-6283fd25f5d4\":{\"version\":\"3.1.1\",\"title\":\"Bokeh Application\",\"defs\":[],\"roots\":[{\"type\":\"object\",\"name\":\"Figure\",\"id\":\"p1256\",\"attributes\":{\"height\":300,\"x_range\":{\"type\":\"object\",\"name\":\"DataRange1d\",\"id\":\"p1257\"},\"y_range\":{\"type\":\"object\",\"name\":\"DataRange1d\",\"id\":\"p1258\"},\"x_scale\":{\"type\":\"object\",\"name\":\"LinearScale\",\"id\":\"p1270\"},\"y_scale\":{\"type\":\"object\",\"name\":\"LinearScale\",\"id\":\"p1272\"},\"title\":{\"type\":\"object\",\"name\":\"Title\",\"id\":\"p1259\",\"attributes\":{\"text\":\"Configured RDKit Hover\"}},\"renderers\":[{\"type\":\"object\",\"name\":\"GlyphRenderer\",\"id\":\"p1301\",\"attributes\":{\"data_source\":{\"type\":\"object\",\"name\":\"ColumnDataSource\",\"id\":\"p1001\",\"attributes\":{\"selected\":{\"type\":\"object\",\"name\":\"Selection\",\"id\":\"p1002\",\"attributes\":{\"indices\":[],\"line_indices\":[]}},\"selection_policy\":{\"type\":\"object\",\"name\":\"UnionRenderers\",\"id\":\"p1003\"},\"data\":{\"type\":\"map\",\"entries\":[[\"x\",[1,2,3,4,5]],[\"y\",[6,7,2,4,5]],[\"SMILES\",[\"O=C1CCCN1C\",\"c1ccccc1\",\"CN1C(=O)N(C)c2ncn(C)c2C1(=O)\",\"C1C(=O)C=C2CCC3C4CCC(C(=O)CO)C4(C)CCC3C2(C)C1\",\"ClC1C=CC2C1C3(Cl)C(=C(Cl)C2(Cl)C3(Cl)Cl)Cl\"]]]}}},\"view\":{\"type\":\"object\",\"name\":\"CDSView\",\"id\":\"p1302\",\"attributes\":{\"filter\":{\"type\":\"object\",\"name\":\"AllIndices\",\"id\":\"p1303\"}}},\"glyph\":{\"type\":\"object\",\"name\":\"Circle\",\"id\":\"p1298\",\"attributes\":{\"x\":{\"type\":\"field\",\"field\":\"x\"},\"y\":{\"type\":\"field\",\"field\":\"y\"},\"size\":{\"type\":\"value\",\"value\":15},\"line_color\":{\"type\":\"value\",\"value\":\"#1f77b4\"},\"line_width\":{\"type\":\"value\",\"value\":0},\"fill_color\":{\"type\":\"value\",\"value\":\"firebrick\"}}},\"nonselection_glyph\":{\"type\":\"object\",\"name\":\"Circle\",\"id\":\"p1299\",\"attributes\":{\"x\":{\"type\":\"field\",\"field\":\"x\"},\"y\":{\"type\":\"field\",\"field\":\"y\"},\"size\":{\"type\":\"value\",\"value\":15},\"line_color\":{\"type\":\"value\",\"value\":\"#1f77b4\"},\"line_alpha\":{\"type\":\"value\",\"value\":0.1},\"line_width\":{\"type\":\"value\",\"value\":0},\"fill_color\":{\"type\":\"value\",\"value\":\"firebrick\"},\"fill_alpha\":{\"type\":\"value\",\"value\":0.1},\"hatch_alpha\":{\"type\":\"value\",\"value\":0.1}}},\"muted_glyph\":{\"type\":\"object\",\"name\":\"Circle\",\"id\":\"p1300\",\"attributes\":{\"x\":{\"type\":\"field\",\"field\":\"x\"},\"y\":{\"type\":\"field\",\"field\":\"y\"},\"size\":{\"type\":\"value\",\"value\":15},\"line_color\":{\"type\":\"value\",\"value\":\"#1f77b4\"},\"line_alpha\":{\"type\":\"value\",\"value\":0.2},\"line_width\":{\"type\":\"value\",\"value\":0},\"fill_color\":{\"type\":\"value\",\"value\":\"firebrick\"},\"fill_alpha\":{\"type\":\"value\",\"value\":0.2},\"hatch_alpha\":{\"type\":\"value\",\"value\":0.2}}}}}],\"toolbar\":{\"type\":\"object\",\"name\":\"Toolbar\",\"id\":\"p1261\",\"attributes\":{\"tools\":[{\"type\":\"object\",\"name\":\"PanTool\",\"id\":\"p1288\"},{\"type\":\"object\",\"name\":\"WheelZoomTool\",\"id\":\"p1289\"},{\"type\":\"object\",\"name\":\"RDKitHover\",\"id\":\"p1293\",\"attributes\":{\"draw_options\":{\"type\":\"map\",\"entries\":[[\"comicMode\",true]]},\"renderers\":\"auto\",\"tooltips\":[[\"smiles\",\"@SMILES\"]]}}]}},\"left\":[{\"type\":\"object\",\"name\":\"LinearAxis\",\"id\":\"p1281\",\"attributes\":{\"ticker\":{\"type\":\"object\",\"name\":\"BasicTicker\",\"id\":\"p1283\",\"attributes\":{\"mantissas\":[1,2,5]}},\"formatter\":{\"type\":\"object\",\"name\":\"BasicTickFormatter\",\"id\":\"p1284\"},\"major_label_policy\":{\"type\":\"object\",\"name\":\"AllLabels\",\"id\":\"p1282\"}}}],\"below\":[{\"type\":\"object\",\"name\":\"LinearAxis\",\"id\":\"p1274\",\"attributes\":{\"ticker\":{\"type\":\"object\",\"name\":\"BasicTicker\",\"id\":\"p1276\",\"attributes\":{\"mantissas\":[1,2,5]}},\"formatter\":{\"type\":\"object\",\"name\":\"BasicTickFormatter\",\"id\":\"p1277\"},\"major_label_policy\":{\"type\":\"object\",\"name\":\"AllLabels\",\"id\":\"p1275\"}}}],\"center\":[{\"type\":\"object\",\"name\":\"Grid\",\"id\":\"p1280\",\"attributes\":{\"axis\":{\"id\":\"p1274\"}}},{\"type\":\"object\",\"name\":\"Grid\",\"id\":\"p1287\",\"attributes\":{\"dimension\":1,\"axis\":{\"id\":\"p1281\"}}}],\"background_fill_color\":\"#efefef\"}}],\"callbacks\":{\"type\":\"map\"}}};\n  const render_items = [{\"docid\":\"37cfbb4a-c1f5-4fdb-b0bb-6283fd25f5d4\",\"roots\":{\"p1256\":\"d0b95ef7-a3a1-47fc-ba6f-e9f618136b36\"},\"root_ids\":[\"p1256\"]}];\n  root.Bokeh.embed.embed_items_notebook(docs_json, render_items);\n  }\n  if (root.Bokeh !== undefined) {\n    embed_document(root);\n  } else {\n    let attempts = 0;\n    const timer = setInterval(function(root) {\n      if (root.Bokeh !== undefined) {\n        clearInterval(timer);\n        embed_document(root);\n      } else {\n        attempts++;\n        if (attempts > 100) {\n          clearInterval(timer);\n          console.log(\"Bokeh: ERROR: Unable to run BokehJS code because BokehJS library is missing\");\n        }\n      }\n    }, 10, root)\n  }\n})(window);",
      "application/vnd.bokehjs_exec.v0+json": ""
     },
     "metadata": {
      "application/vnd.bokehjs_exec.v0+json": {
       "id": "p1256"
      }
     },
     "output_type": "display_data"
    }
   ],
   "source": [
    "plot = figure(\n",
    "    width=600, height=300,\n",
    "    title=\"Configured RDKit Hover\",\n",
    "    background_fill_color=\"#efefef\",\n",
    "    tools=\"pan,wheel_zoom\",\n",
    ")\n",
    "\n",
    "mol_hover = bokehmol.hover.rdkit(\n",
    "    smiles_column=\"SMILES\",\n",
    "    tooltips=[\n",
    "        (\"smiles\", \"@SMILES\"),\n",
    "    ],\n",
    "    draw_options={\n",
    "        \"comicMode\": True\n",
    "    }\n",
    ")\n",
    "\n",
    "plot.add_tools(mol_hover)\n",
    "plot.circle(\"x\", \"y\", size=15, line_width=0, fill_color=\"firebrick\", source=source)\n",
    "\n",
    "show(plot)"
   ]
  },
  {
   "cell_type": "code",
   "execution_count": 6,
   "metadata": {},
   "outputs": [
    {
     "name": "stdout",
     "output_type": "stream",
     "text": [
      "\u001b[1;31mSignature:\u001b[0m\n",
      "\u001b[0mbokehmol\u001b[0m\u001b[1;33m.\u001b[0m\u001b[0mhover\u001b[0m\u001b[1;33m.\u001b[0m\u001b[0mrdkit\u001b[0m\u001b[1;33m(\u001b[0m\u001b[1;33m\n",
      "\u001b[0m    \u001b[0msmiles_column\u001b[0m\u001b[1;33m:\u001b[0m \u001b[0mstr\u001b[0m \u001b[1;33m=\u001b[0m \u001b[1;34m'SMILES'\u001b[0m\u001b[1;33m,\u001b[0m\u001b[1;33m\n",
      "\u001b[0m    \u001b[0mtooltips\u001b[0m\u001b[1;33m:\u001b[0m \u001b[0mUnion\u001b[0m\u001b[1;33m[\u001b[0m\u001b[0mstr\u001b[0m\u001b[1;33m,\u001b[0m \u001b[0mList\u001b[0m\u001b[1;33m[\u001b[0m\u001b[0mTuple\u001b[0m\u001b[1;33m[\u001b[0m\u001b[0mstr\u001b[0m\u001b[1;33m,\u001b[0m \u001b[0mstr\u001b[0m\u001b[1;33m]\u001b[0m\u001b[1;33m]\u001b[0m\u001b[1;33m,\u001b[0m \u001b[0mNoneType\u001b[0m\u001b[1;33m]\u001b[0m \u001b[1;33m=\u001b[0m \u001b[1;32mNone\u001b[0m\u001b[1;33m,\u001b[0m\u001b[1;33m\n",
      "\u001b[0m    \u001b[0mwidth\u001b[0m\u001b[1;33m:\u001b[0m \u001b[0mint\u001b[0m \u001b[1;33m=\u001b[0m \u001b[1;36m160\u001b[0m\u001b[1;33m,\u001b[0m\u001b[1;33m\n",
      "\u001b[0m    \u001b[0mheight\u001b[0m\u001b[1;33m:\u001b[0m \u001b[0mint\u001b[0m \u001b[1;33m=\u001b[0m \u001b[1;36m120\u001b[0m\u001b[1;33m,\u001b[0m\u001b[1;33m\n",
      "\u001b[0m    \u001b[0mremove_hs\u001b[0m\u001b[1;33m:\u001b[0m \u001b[0mbool\u001b[0m \u001b[1;33m=\u001b[0m \u001b[1;32mTrue\u001b[0m\u001b[1;33m,\u001b[0m\u001b[1;33m\n",
      "\u001b[0m    \u001b[0msanitize\u001b[0m\u001b[1;33m:\u001b[0m \u001b[0mbool\u001b[0m \u001b[1;33m=\u001b[0m \u001b[1;32mTrue\u001b[0m\u001b[1;33m,\u001b[0m\u001b[1;33m\n",
      "\u001b[0m    \u001b[0mkekulize\u001b[0m\u001b[1;33m:\u001b[0m \u001b[0mbool\u001b[0m \u001b[1;33m=\u001b[0m \u001b[1;32mTrue\u001b[0m\u001b[1;33m,\u001b[0m\u001b[1;33m\n",
      "\u001b[0m    \u001b[0mprefer_coordgen\u001b[0m\u001b[1;33m:\u001b[0m \u001b[0mbool\u001b[0m \u001b[1;33m=\u001b[0m \u001b[1;32mTrue\u001b[0m\u001b[1;33m,\u001b[0m\u001b[1;33m\n",
      "\u001b[0m    \u001b[0mdraw_options\u001b[0m\u001b[1;33m:\u001b[0m \u001b[0mUnion\u001b[0m\u001b[1;33m[\u001b[0m\u001b[0mDict\u001b[0m\u001b[1;33m[\u001b[0m\u001b[0mstr\u001b[0m\u001b[1;33m,\u001b[0m \u001b[0mAny\u001b[0m\u001b[1;33m]\u001b[0m\u001b[1;33m,\u001b[0m \u001b[0mNoneType\u001b[0m\u001b[1;33m]\u001b[0m \u001b[1;33m=\u001b[0m \u001b[1;32mNone\u001b[0m\u001b[1;33m,\u001b[0m\u001b[1;33m\n",
      "\u001b[0m    \u001b[1;33m**\u001b[0m\u001b[0mkwargs\u001b[0m\u001b[1;33m:\u001b[0m \u001b[0mAny\u001b[0m\u001b[1;33m,\u001b[0m\u001b[1;33m\n",
      "\u001b[0m\u001b[1;33m)\u001b[0m \u001b[1;33m->\u001b[0m \u001b[0mbokehmol\u001b[0m\u001b[1;33m.\u001b[0m\u001b[0mmodels\u001b[0m\u001b[1;33m.\u001b[0m\u001b[0mrdkit_hover\u001b[0m\u001b[1;33m.\u001b[0m\u001b[0mRDKitHover\u001b[0m\u001b[1;33m\u001b[0m\u001b[1;33m\u001b[0m\u001b[0m\n",
      "\u001b[1;31mDocstring:\u001b[0m\n",
      "Hover tool that uses RDKit.js and the RDKit's Minimal Lib to depict\n",
      "SMILES strings on hover.\n",
      "\n",
      "Notes\n",
      "-----\n",
      "See https://www.npmjs.com/package/@rdkit/rdkit for the readme.\n",
      "\n",
      "Parameters\n",
      "----------\n",
      "smiles_column: str = \"SMILES\"\n",
      "    Column in the `ColumnDataSource` object containing the SMILES string.\n",
      "tooltips: t.Union[str, t.List[t.Tuple[str, str]]] = None\n",
      "    Tooltips to render below the depiction. Can be an HTML string, or a list of\n",
      "    tuples specifying the display name and column name that you want to display.\n",
      "    Column names must be prefixed with `@` (or `$` for bokeh's internal\n",
      "    variables), see bokeh's docs for more info on tooltips formats::\n",
      "\n",
      "        >>> bokehmol.hover.rdkit(\n",
      "        ...     tooltips=[\n",
      "        ...         (\"SMILES\", \"@SMILES\"),\n",
      "        ...         (\"Name\", \"@{Molecule name}\"),\n",
      "        ...     ]\n",
      "        ... )\n",
      "\n",
      "width: int = 160\n",
      "    Image width in pixels\n",
      "height: int = 120\n",
      "    Image height in pixels\n",
      "remove_hs: bool = True\n",
      "    Remove hydrogens from the depiction\n",
      "sanitize: bool = True\n",
      "    Sanitize the molecule\n",
      "kekulize: bool = True\n",
      "    Kekulize the molecule\n",
      "prefer_coordgen: bool = True\n",
      "    Prefer the CoordGen library for macrocycle rendering\n",
      "draw_options: t.Dict[str, t.Any] = None\n",
      "    RDKit's MolDrawOptions to control the style of the drawing:\n",
      "    https://www.rdkitjs.com/#drawing-molecules-all-options.::\n",
      "\n",
      "    >>> bokehmol.hover.rdkit(\n",
      "    ...     draw_options={\n",
      "    ...         \"addAtomIndices\": True,\n",
      "    ...     }\n",
      "    ... )\n",
      "\n",
      "**kwargs: t.Any\n",
      "    Additional parameters passed to bokeh's Hover tool.\n",
      "\n",
      "Returns\n",
      "-------\n",
      "An RDKit-based hover tool ready to be added to a bokeh plot::\n",
      "\n",
      "    >>> from bokeh.plotting import figure\n",
      "    >>> plot = figure(...)\n",
      "    >>> hover_tool = bokehmol.hover.rdkit()\n",
      "    >>> plot.add_tools(hover_tool)\n",
      "\u001b[1;31mFile:\u001b[0m      c:\\users\\bouys\\dev\\bokehmol\\bokehmol\\hover.py\n",
      "\u001b[1;31mType:\u001b[0m      function"
     ]
    }
   ],
   "source": [
    "# options available\n",
    "bokehmol.hover.rdkit?"
   ]
  },
  {
   "cell_type": "markdown",
   "metadata": {},
   "source": [
    "Same with SmilesDrawer:"
   ]
  },
  {
   "cell_type": "code",
   "execution_count": 7,
   "metadata": {},
   "outputs": [
    {
     "data": {
      "text/html": [
       "\n",
       "  <div id=\"e58597ba-00f3-446d-a58d-92b9574ef9f1\" data-root-id=\"p1400\" style=\"display: contents;\"></div>\n"
      ]
     },
     "metadata": {},
     "output_type": "display_data"
    },
    {
     "data": {
      "application/javascript": "(function(root) {\n  function embed_document(root) {\n  const docs_json = {\"3368d231-d832-4aca-84db-f0937cc3c71f\":{\"version\":\"3.1.1\",\"title\":\"Bokeh Application\",\"defs\":[],\"roots\":[{\"type\":\"object\",\"name\":\"Figure\",\"id\":\"p1400\",\"attributes\":{\"height\":300,\"x_range\":{\"type\":\"object\",\"name\":\"DataRange1d\",\"id\":\"p1401\"},\"y_range\":{\"type\":\"object\",\"name\":\"DataRange1d\",\"id\":\"p1402\"},\"x_scale\":{\"type\":\"object\",\"name\":\"LinearScale\",\"id\":\"p1414\"},\"y_scale\":{\"type\":\"object\",\"name\":\"LinearScale\",\"id\":\"p1416\"},\"title\":{\"type\":\"object\",\"name\":\"Title\",\"id\":\"p1403\",\"attributes\":{\"text\":\"Configured SmilesDrawer Hover\"}},\"renderers\":[{\"type\":\"object\",\"name\":\"GlyphRenderer\",\"id\":\"p1445\",\"attributes\":{\"data_source\":{\"type\":\"object\",\"name\":\"ColumnDataSource\",\"id\":\"p1001\",\"attributes\":{\"selected\":{\"type\":\"object\",\"name\":\"Selection\",\"id\":\"p1002\",\"attributes\":{\"indices\":[],\"line_indices\":[]}},\"selection_policy\":{\"type\":\"object\",\"name\":\"UnionRenderers\",\"id\":\"p1003\"},\"data\":{\"type\":\"map\",\"entries\":[[\"x\",[1,2,3,4,5]],[\"y\",[6,7,2,4,5]],[\"SMILES\",[\"O=C1CCCN1C\",\"c1ccccc1\",\"CN1C(=O)N(C)c2ncn(C)c2C1(=O)\",\"C1C(=O)C=C2CCC3C4CCC(C(=O)CO)C4(C)CCC3C2(C)C1\",\"ClC1C=CC2C1C3(Cl)C(=C(Cl)C2(Cl)C3(Cl)Cl)Cl\"]]]}}},\"view\":{\"type\":\"object\",\"name\":\"CDSView\",\"id\":\"p1446\",\"attributes\":{\"filter\":{\"type\":\"object\",\"name\":\"AllIndices\",\"id\":\"p1447\"}}},\"glyph\":{\"type\":\"object\",\"name\":\"Circle\",\"id\":\"p1442\",\"attributes\":{\"x\":{\"type\":\"field\",\"field\":\"x\"},\"y\":{\"type\":\"field\",\"field\":\"y\"},\"size\":{\"type\":\"value\",\"value\":15},\"line_color\":{\"type\":\"value\",\"value\":\"#1f77b4\"},\"line_width\":{\"type\":\"value\",\"value\":0},\"fill_color\":{\"type\":\"value\",\"value\":\"firebrick\"}}},\"nonselection_glyph\":{\"type\":\"object\",\"name\":\"Circle\",\"id\":\"p1443\",\"attributes\":{\"x\":{\"type\":\"field\",\"field\":\"x\"},\"y\":{\"type\":\"field\",\"field\":\"y\"},\"size\":{\"type\":\"value\",\"value\":15},\"line_color\":{\"type\":\"value\",\"value\":\"#1f77b4\"},\"line_alpha\":{\"type\":\"value\",\"value\":0.1},\"line_width\":{\"type\":\"value\",\"value\":0},\"fill_color\":{\"type\":\"value\",\"value\":\"firebrick\"},\"fill_alpha\":{\"type\":\"value\",\"value\":0.1},\"hatch_alpha\":{\"type\":\"value\",\"value\":0.1}}},\"muted_glyph\":{\"type\":\"object\",\"name\":\"Circle\",\"id\":\"p1444\",\"attributes\":{\"x\":{\"type\":\"field\",\"field\":\"x\"},\"y\":{\"type\":\"field\",\"field\":\"y\"},\"size\":{\"type\":\"value\",\"value\":15},\"line_color\":{\"type\":\"value\",\"value\":\"#1f77b4\"},\"line_alpha\":{\"type\":\"value\",\"value\":0.2},\"line_width\":{\"type\":\"value\",\"value\":0},\"fill_color\":{\"type\":\"value\",\"value\":\"firebrick\"},\"fill_alpha\":{\"type\":\"value\",\"value\":0.2},\"hatch_alpha\":{\"type\":\"value\",\"value\":0.2}}}}}],\"toolbar\":{\"type\":\"object\",\"name\":\"Toolbar\",\"id\":\"p1405\",\"attributes\":{\"tools\":[{\"type\":\"object\",\"name\":\"PanTool\",\"id\":\"p1432\"},{\"type\":\"object\",\"name\":\"WheelZoomTool\",\"id\":\"p1433\"},{\"type\":\"object\",\"name\":\"SmilesDrawerHover\",\"id\":\"p1437\",\"attributes\":{\"theme\":\"cyberpunk\",\"background_colour\":\"#3d3d3b\",\"mol_options\":{\"type\":\"map\",\"entries\":[[\"atomVisualization\",\"balls\"]]},\"renderers\":\"auto\",\"tooltips\":[[\"smiles\",\"@SMILES\"]]}}]}},\"left\":[{\"type\":\"object\",\"name\":\"LinearAxis\",\"id\":\"p1425\",\"attributes\":{\"ticker\":{\"type\":\"object\",\"name\":\"BasicTicker\",\"id\":\"p1427\",\"attributes\":{\"mantissas\":[1,2,5]}},\"formatter\":{\"type\":\"object\",\"name\":\"BasicTickFormatter\",\"id\":\"p1428\"},\"major_label_policy\":{\"type\":\"object\",\"name\":\"AllLabels\",\"id\":\"p1426\"}}}],\"below\":[{\"type\":\"object\",\"name\":\"LinearAxis\",\"id\":\"p1418\",\"attributes\":{\"ticker\":{\"type\":\"object\",\"name\":\"BasicTicker\",\"id\":\"p1420\",\"attributes\":{\"mantissas\":[1,2,5]}},\"formatter\":{\"type\":\"object\",\"name\":\"BasicTickFormatter\",\"id\":\"p1421\"},\"major_label_policy\":{\"type\":\"object\",\"name\":\"AllLabels\",\"id\":\"p1419\"}}}],\"center\":[{\"type\":\"object\",\"name\":\"Grid\",\"id\":\"p1424\",\"attributes\":{\"axis\":{\"id\":\"p1418\"}}},{\"type\":\"object\",\"name\":\"Grid\",\"id\":\"p1431\",\"attributes\":{\"dimension\":1,\"axis\":{\"id\":\"p1425\"}}}],\"background_fill_color\":\"#efefef\"}}],\"callbacks\":{\"type\":\"map\"}}};\n  const render_items = [{\"docid\":\"3368d231-d832-4aca-84db-f0937cc3c71f\",\"roots\":{\"p1400\":\"e58597ba-00f3-446d-a58d-92b9574ef9f1\"},\"root_ids\":[\"p1400\"]}];\n  root.Bokeh.embed.embed_items_notebook(docs_json, render_items);\n  }\n  if (root.Bokeh !== undefined) {\n    embed_document(root);\n  } else {\n    let attempts = 0;\n    const timer = setInterval(function(root) {\n      if (root.Bokeh !== undefined) {\n        clearInterval(timer);\n        embed_document(root);\n      } else {\n        attempts++;\n        if (attempts > 100) {\n          clearInterval(timer);\n          console.log(\"Bokeh: ERROR: Unable to run BokehJS code because BokehJS library is missing\");\n        }\n      }\n    }, 10, root)\n  }\n})(window);",
      "application/vnd.bokehjs_exec.v0+json": ""
     },
     "metadata": {
      "application/vnd.bokehjs_exec.v0+json": {
       "id": "p1400"
      }
     },
     "output_type": "display_data"
    }
   ],
   "source": [
    "plot = figure(\n",
    "    width=600, height=300,\n",
    "    title=\"Configured SmilesDrawer Hover\",\n",
    "    background_fill_color=\"#efefef\",\n",
    "    tools=\"pan,wheel_zoom\",\n",
    ")\n",
    "\n",
    "mol_hover = bokehmol.hover.smiles_drawer(\n",
    "    smiles_column=\"SMILES\",\n",
    "    tooltips=[\n",
    "        (\"smiles\", \"@SMILES\"),\n",
    "    ],\n",
    "    theme=\"cyberpunk\",\n",
    "    background_colour=\"#3d3d3b\",\n",
    "    mol_options={\n",
    "        \"atomVisualization\": \"balls\"\n",
    "    }\n",
    ")\n",
    "\n",
    "plot.add_tools(mol_hover)\n",
    "plot.circle(\"x\", \"y\", size=15, line_width=0, fill_color=\"firebrick\", source=source)\n",
    "\n",
    "show(plot)"
   ]
  },
  {
   "cell_type": "code",
   "execution_count": 8,
   "metadata": {},
   "outputs": [
    {
     "name": "stdout",
     "output_type": "stream",
     "text": [
      "\u001b[1;31mSignature:\u001b[0m\n",
      "\u001b[0mbokehmol\u001b[0m\u001b[1;33m.\u001b[0m\u001b[0mhover\u001b[0m\u001b[1;33m.\u001b[0m\u001b[0msmiles_drawer\u001b[0m\u001b[1;33m(\u001b[0m\u001b[1;33m\n",
      "\u001b[0m    \u001b[0msmiles_column\u001b[0m\u001b[1;33m:\u001b[0m \u001b[0mstr\u001b[0m \u001b[1;33m=\u001b[0m \u001b[1;34m'SMILES'\u001b[0m\u001b[1;33m,\u001b[0m\u001b[1;33m\n",
      "\u001b[0m    \u001b[0mtooltips\u001b[0m\u001b[1;33m:\u001b[0m \u001b[0mUnion\u001b[0m\u001b[1;33m[\u001b[0m\u001b[0mstr\u001b[0m\u001b[1;33m,\u001b[0m \u001b[0mList\u001b[0m\u001b[1;33m[\u001b[0m\u001b[0mTuple\u001b[0m\u001b[1;33m[\u001b[0m\u001b[0mstr\u001b[0m\u001b[1;33m,\u001b[0m \u001b[0mstr\u001b[0m\u001b[1;33m]\u001b[0m\u001b[1;33m]\u001b[0m\u001b[1;33m,\u001b[0m \u001b[0mNoneType\u001b[0m\u001b[1;33m]\u001b[0m \u001b[1;33m=\u001b[0m \u001b[1;32mNone\u001b[0m\u001b[1;33m,\u001b[0m\u001b[1;33m\n",
      "\u001b[0m    \u001b[0mwidth\u001b[0m\u001b[1;33m:\u001b[0m \u001b[0mint\u001b[0m \u001b[1;33m=\u001b[0m \u001b[1;36m160\u001b[0m\u001b[1;33m,\u001b[0m\u001b[1;33m\n",
      "\u001b[0m    \u001b[0mheight\u001b[0m\u001b[1;33m:\u001b[0m \u001b[0mint\u001b[0m \u001b[1;33m=\u001b[0m \u001b[1;36m120\u001b[0m\u001b[1;33m,\u001b[0m\u001b[1;33m\n",
      "\u001b[0m    \u001b[0mtheme\u001b[0m\u001b[1;33m:\u001b[0m \u001b[0mLiteral\u001b[0m\u001b[1;33m[\u001b[0m\u001b[1;34m'light'\u001b[0m\u001b[1;33m,\u001b[0m \u001b[1;34m'dark'\u001b[0m\u001b[1;33m,\u001b[0m \u001b[1;34m'oldschool'\u001b[0m\u001b[1;33m,\u001b[0m \u001b[1;34m'solarized'\u001b[0m\u001b[1;33m,\u001b[0m \u001b[1;34m'solarized-dark'\u001b[0m\u001b[1;33m,\u001b[0m \u001b[1;34m'matrix'\u001b[0m\u001b[1;33m,\u001b[0m \u001b[1;34m'github'\u001b[0m\u001b[1;33m,\u001b[0m \u001b[1;34m'carbon'\u001b[0m\u001b[1;33m,\u001b[0m \u001b[1;34m'cyberpunk'\u001b[0m\u001b[1;33m,\u001b[0m \u001b[1;34m'gruvbox'\u001b[0m\u001b[1;33m,\u001b[0m \u001b[1;34m'gruvbox-dark'\u001b[0m\u001b[1;33m]\u001b[0m \u001b[1;33m=\u001b[0m \u001b[1;34m'light'\u001b[0m\u001b[1;33m,\u001b[0m\u001b[1;33m\n",
      "\u001b[0m    \u001b[0mbackground_colour\u001b[0m\u001b[1;33m:\u001b[0m \u001b[0mstr\u001b[0m \u001b[1;33m=\u001b[0m \u001b[1;34m'transparent'\u001b[0m\u001b[1;33m,\u001b[0m\u001b[1;33m\n",
      "\u001b[0m    \u001b[0mmol_options\u001b[0m\u001b[1;33m:\u001b[0m \u001b[0mUnion\u001b[0m\u001b[1;33m[\u001b[0m\u001b[0mDict\u001b[0m\u001b[1;33m[\u001b[0m\u001b[0mstr\u001b[0m\u001b[1;33m,\u001b[0m \u001b[0mAny\u001b[0m\u001b[1;33m]\u001b[0m\u001b[1;33m,\u001b[0m \u001b[0mNoneType\u001b[0m\u001b[1;33m]\u001b[0m \u001b[1;33m=\u001b[0m \u001b[1;32mNone\u001b[0m\u001b[1;33m,\u001b[0m\u001b[1;33m\n",
      "\u001b[0m    \u001b[0mreaction_options\u001b[0m\u001b[1;33m:\u001b[0m \u001b[0mUnion\u001b[0m\u001b[1;33m[\u001b[0m\u001b[0mDict\u001b[0m\u001b[1;33m[\u001b[0m\u001b[0mstr\u001b[0m\u001b[1;33m,\u001b[0m \u001b[0mAny\u001b[0m\u001b[1;33m]\u001b[0m\u001b[1;33m,\u001b[0m \u001b[0mNoneType\u001b[0m\u001b[1;33m]\u001b[0m \u001b[1;33m=\u001b[0m \u001b[1;32mNone\u001b[0m\u001b[1;33m,\u001b[0m\u001b[1;33m\n",
      "\u001b[0m    \u001b[1;33m**\u001b[0m\u001b[0mkwargs\u001b[0m\u001b[1;33m:\u001b[0m \u001b[0mAny\u001b[0m\u001b[1;33m,\u001b[0m\u001b[1;33m\n",
      "\u001b[0m\u001b[1;33m)\u001b[0m \u001b[1;33m->\u001b[0m \u001b[0mbokehmol\u001b[0m\u001b[1;33m.\u001b[0m\u001b[0mmodels\u001b[0m\u001b[1;33m.\u001b[0m\u001b[0msmilesdrawer_hover\u001b[0m\u001b[1;33m.\u001b[0m\u001b[0mSmilesDrawerHover\u001b[0m\u001b[1;33m\u001b[0m\u001b[1;33m\u001b[0m\u001b[0m\n",
      "\u001b[1;31mDocstring:\u001b[0m\n",
      "Hover tool that uses SmilesDrawer to depict SMILES strings on hover.\n",
      "\n",
      "Notes\n",
      "-----\n",
      "See https://github.com/reymond-group/smilesDrawer#readme for the readme.\n",
      "Please cite the SmilesDrawer paper doi:10.1021/acs.jcim.7b00425 if you use this\n",
      "in academic work.\n",
      "\n",
      "Parameters\n",
      "----------\n",
      "smiles_column: str = \"SMILES\"\n",
      "    Column in the `ColumnDataSource` object containing the SMILES string.\n",
      "tooltips: t.Union[str, t.List[t.Tuple[str, str]]] = None\n",
      "    Tooltips to render below the depiction. Can be an HTML string, or a list of\n",
      "    tuples specifying the display name and column name that you want to display.\n",
      "    Column names must be prefixed with `@` (or `$` for bokeh's internal\n",
      "    variables), see bokeh's docs for more info on tooltips formats::\n",
      "\n",
      "        >>> bokehmol.hover.smiles_drawer(\n",
      "        ...     tooltips=[\n",
      "        ...         (\"SMILES\", \"@SMILES\"),\n",
      "        ...         (\"Name\", \"@{Molecule name}\"),\n",
      "        ...     ]\n",
      "        ... )\n",
      "\n",
      "width: int = 160\n",
      "    Image width in pixels\n",
      "height: int = 120\n",
      "    Image height in pixels\n",
      "theme: str = \"light\"\n",
      "    Theme used for the rendering. One of the following list: light, dark,\n",
      "    oldschool, solarized, solarized-dark, matrix, github, carbon, cyberpunk,\n",
      "    gruvbox, gruvbox-dark.\n",
      "background_colour: str = \"transparent\"\n",
      "    Any valid CSS color specification.\n",
      "mol_options: t.Dict[str, t.Any] = None\n",
      "    SmilesDrawer options to control the style of the molecule's drawing:\n",
      "    https://smilesdrawer.surge.sh/playground.html.::\n",
      "\n",
      "    >>> bokehmol.hover.smiles_drawer(\n",
      "    ...     mol_options={\n",
      "    ...         \"atomVisualization\": \"balls\",\n",
      "    ...     }\n",
      "    ... )\n",
      "\n",
      "reaction_options: t.Dict[str, t.Any] = None\n",
      "    Same as above for reaction's drawing.\n",
      "**kwargs: t.Any\n",
      "    Additional parameters passed to bokeh's Hover tool.\n",
      "\n",
      "Returns\n",
      "-------\n",
      "A SmilesDrawer-based hover tool ready to be added to a bokeh plot::\n",
      "\n",
      "    >>> from bokeh.plotting import figure\n",
      "    >>> plot = figure(...)\n",
      "    >>> hover_tool = bokehmol.hover.smiles_drawer()\n",
      "    >>> plot.add_tools(hover_tool)\n",
      "\u001b[1;31mFile:\u001b[0m      c:\\users\\bouys\\dev\\bokehmol\\bokehmol\\hover.py\n",
      "\u001b[1;31mType:\u001b[0m      function"
     ]
    }
   ],
   "source": [
    "# options available\n",
    "bokehmol.hover.smiles_drawer?"
   ]
  }
 ],
 "metadata": {
  "kernelspec": {
   "display_name": "bokehmol",
   "language": "python",
   "name": "python3"
  },
  "language_info": {
   "codemirror_mode": {
    "name": "ipython",
    "version": 3
   },
   "file_extension": ".py",
   "mimetype": "text/x-python",
   "name": "python",
   "nbconvert_exporter": "python",
   "pygments_lexer": "ipython3",
   "version": "3.8.17"
  },
  "orig_nbformat": 4
 },
 "nbformat": 4,
 "nbformat_minor": 2
}
